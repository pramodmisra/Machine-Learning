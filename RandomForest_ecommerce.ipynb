{
  "nbformat": 4,
  "nbformat_minor": 0,
  "metadata": {
    "colab": {
      "name": "RandomForest-ecommerce.ipynb",
      "provenance": [],
      "collapsed_sections": [],
      "include_colab_link": true
    },
    "kernelspec": {
      "name": "python3",
      "display_name": "Python 3"
    },
    "accelerator": "TPU"
  },
  "cells": [
    {
      "cell_type": "markdown",
      "metadata": {
        "id": "view-in-github",
        "colab_type": "text"
      },
      "source": [
        "<a href=\"https://colab.research.google.com/github/pramodmisra/handson-ml/blob/master/RandomForest_ecommerce.ipynb\" target=\"_parent\"><img src=\"https://colab.research.google.com/assets/colab-badge.svg\" alt=\"Open In Colab\"/></a>"
      ]
    },
    {
      "cell_type": "markdown",
      "metadata": {
        "id": "2qrT-JkDSz8P",
        "colab_type": "text"
      },
      "source": [
        "### Importing an ecommerce customer behavioral dataset from kaggle"
      ]
    },
    {
      "cell_type": "code",
      "metadata": {
        "id": "jiog8KSd6vLN",
        "colab_type": "code",
        "colab": {}
      },
      "source": [
        "#importing important libraries\n",
        "import pandas as pd\n",
        "import numpy as np\n",
        "import matplotlib.pyplot as plt\n",
        "import seaborn as sns\n",
        "import matplotlib.dates as dates\n",
        "from datetime import datetime"
      ],
      "execution_count": 0,
      "outputs": []
    },
    {
      "cell_type": "code",
      "metadata": {
        "id": "TsxKN-ZAWGWI",
        "colab_type": "code",
        "outputId": "dfa9660c-6350-4c76-b509-251e8b2fc626",
        "colab": {
          "base_uri": "https://localhost:8080/",
          "height": 224
        }
      },
      "source": [
        "!pip install kaggle"
      ],
      "execution_count": 15,
      "outputs": [
        {
          "output_type": "stream",
          "text": [
            "Requirement already satisfied: kaggle in /usr/local/lib/python3.6/dist-packages (1.5.6)\n",
            "Requirement already satisfied: tqdm in /usr/local/lib/python3.6/dist-packages (from kaggle) (4.41.1)\n",
            "Requirement already satisfied: six>=1.10 in /usr/local/lib/python3.6/dist-packages (from kaggle) (1.12.0)\n",
            "Requirement already satisfied: python-dateutil in /usr/local/lib/python3.6/dist-packages (from kaggle) (2.8.1)\n",
            "Requirement already satisfied: requests in /usr/local/lib/python3.6/dist-packages (from kaggle) (2.23.0)\n",
            "Requirement already satisfied: python-slugify in /usr/local/lib/python3.6/dist-packages (from kaggle) (4.0.0)\n",
            "Requirement already satisfied: urllib3<1.25,>=1.21.1 in /usr/local/lib/python3.6/dist-packages (from kaggle) (1.24.3)\n",
            "Requirement already satisfied: certifi in /usr/local/lib/python3.6/dist-packages (from kaggle) (2020.4.5.1)\n",
            "Requirement already satisfied: idna<3,>=2.5 in /usr/local/lib/python3.6/dist-packages (from requests->kaggle) (2.9)\n",
            "Requirement already satisfied: chardet<4,>=3.0.2 in /usr/local/lib/python3.6/dist-packages (from requests->kaggle) (3.0.4)\n",
            "Requirement already satisfied: text-unidecode>=1.3 in /usr/local/lib/python3.6/dist-packages (from python-slugify->kaggle) (1.3)\n"
          ],
          "name": "stdout"
        }
      ]
    },
    {
      "cell_type": "code",
      "metadata": {
        "id": "0CqVRXGEvlwP",
        "colab_type": "code",
        "outputId": "359f38f9-c767-4b05-9c13-26dc823e0700",
        "colab": {
          "base_uri": "https://localhost:8080/",
          "height": 34
        }
      },
      "source": [
        "#creating a directory\n",
        "!ls"
      ],
      "execution_count": 16,
      "outputs": [
        {
          "output_type": "stream",
          "text": [
            "kaggle.json  sample_data\n"
          ],
          "name": "stdout"
        }
      ]
    },
    {
      "cell_type": "code",
      "metadata": {
        "id": "3xGlmJ_syrjN",
        "colab_type": "code",
        "colab": {
          "base_uri": "https://localhost:8080/",
          "height": 34
        },
        "outputId": "55ebedd5-bb39-465b-a0d2-75f2041b2b37"
      },
      "source": [
        "!mkdir .kaggle"
      ],
      "execution_count": 17,
      "outputs": [
        {
          "output_type": "stream",
          "text": [
            "mkdir: cannot create directory ‘.kaggle’: File exists\n"
          ],
          "name": "stdout"
        }
      ]
    },
    {
      "cell_type": "code",
      "metadata": {
        "id": "ecIBLh_mzW38",
        "colab_type": "code",
        "outputId": "e5dd5118-b77d-4cd8-ee4f-114ce155e246",
        "colab": {
          "base_uri": "https://localhost:8080/",
          "height": 34
        }
      },
      "source": [
        "!ls"
      ],
      "execution_count": 18,
      "outputs": [
        {
          "output_type": "stream",
          "text": [
            "kaggle.json  sample_data\n"
          ],
          "name": "stdout"
        }
      ]
    },
    {
      "cell_type": "code",
      "metadata": {
        "id": "Hp3DxrRq6xN3",
        "colab_type": "code",
        "colab": {}
      },
      "source": [
        "#using credentials to open kaggle dataset\n",
        "import json\n",
        "token = {\"username\":\"pramodmisra2020\",\"key\":\"9db04db1ececf8ccac1cf1ff02611f71\"}\n",
        "with open('/content/.kaggle/kaggle.json', 'w') as file:\n",
        "    json.dump(token, file)"
      ],
      "execution_count": 0,
      "outputs": []
    },
    {
      "cell_type": "code",
      "metadata": {
        "id": "_mkH6zp46xMR",
        "colab_type": "code",
        "colab": {}
      },
      "source": [
        "!cp /content/.kaggle/kaggle.json ~/.kaggle/kaggle.json"
      ],
      "execution_count": 0,
      "outputs": []
    },
    {
      "cell_type": "code",
      "metadata": {
        "id": "yBlNcIKu6xJR",
        "colab_type": "code",
        "colab": {
          "base_uri": "https://localhost:8080/",
          "height": 71
        },
        "outputId": "073a4215-0589-4bfb-aea8-d8ea362c18b9"
      },
      "source": [
        "!kaggle config set -n path -v{/content}"
      ],
      "execution_count": 21,
      "outputs": [
        {
          "output_type": "stream",
          "text": [
            "Warning: Your Kaggle API key is readable by other users on this system! To fix this, you can run 'chmod 600 /root/.kaggle/kaggle.json'\n",
            "- path is now set to: {/content}\n"
          ],
          "name": "stdout"
        }
      ]
    },
    {
      "cell_type": "code",
      "metadata": {
        "id": "GQ-RAuLy6xHB",
        "colab_type": "code",
        "colab": {}
      },
      "source": [
        "!chmod 600 /root/.kaggle/kaggle.json"
      ],
      "execution_count": 0,
      "outputs": []
    },
    {
      "cell_type": "code",
      "metadata": {
        "id": "gL2cl_VNGZSP",
        "colab_type": "code",
        "colab": {
          "base_uri": "https://localhost:8080/",
          "height": 428
        },
        "outputId": "f501054d-7d76-49fd-fd67-9fc9bf71dfb0"
      },
      "source": [
        "! kaggle datasets list"
      ],
      "execution_count": 23,
      "outputs": [
        {
          "output_type": "stream",
          "text": [
            "Warning: Looks like you're using an outdated API Version, please consider updating (server 1.5.6 / client 1.5.4)\n",
            "ref                                                         title                                                size  lastUpdated          downloadCount  \n",
            "----------------------------------------------------------  --------------------------------------------------  -----  -------------------  -------------  \n",
            "allen-institute-for-ai/CORD-19-research-challenge           COVID-19 Open Research Dataset Challenge (CORD-19)    3GB  2020-05-20 17:23:43          69301  \n",
            "roche-data-science-coalition/uncover                        UNCOVER COVID-19 Challenge                          142MB  2020-04-29 22:47:23           9819  \n",
            "timxia/enriched-global-mobility-data-apple-google           Enriched Global Mobility Data (Apple + Google)        3MB  2020-05-04 06:52:35            456  \n",
            "gyejr95/tft-match-data                                      TFT(League Of Legends) - High Elo Ranked Games       13MB  2020-05-10 07:08:59            297  \n",
            "susuwatari/epa-vehicle-dataset-19802021                     EPA Vehicle Dataset (~1980-2021)                      2MB  2020-05-10 18:20:19            264  \n",
            "idoyo92/epl-stats-20192020                                  English Premier League stats 2019-2020              580KB  2020-05-15 14:11:44            838  \n",
            "phiitm/covid19-research-preprint-data                       COVID-19 Research Preprint Data                       2MB  2020-05-16 20:30:00            216  \n",
            "mrmorj/political-advertisements-from-facebook               Political Advertisements from Facebook              237MB  2020-05-05 18:53:51            293  \n",
            "sudalairajkumar/nifty-indices-dataset                       Nifty Indices Dataset                                 1MB  2020-05-09 17:22:01            385  \n",
            "amanarora/obesity-among-adults-by-country-19752016          Obesity among adults by country, 1975-2016          362KB  2020-05-08 07:40:50           1542  \n",
            "mrisdal/married-at-first-sight                              Married at First Sight                                2KB  2020-05-09 07:25:16            983  \n",
            "mrmorj/hospital-bed-capacity-and-covid19                    Hospital Bed Capacity and COVID-19                   86KB  2020-05-10 09:22:49            815  \n",
            "jessemostipak/animal-crossing                               Animal Crossing Reviews                             754KB  2020-05-04 15:30:32            878  \n",
            "andrewmvd/udemy-courses                                     Udemy Courses                                       200KB  2020-05-17 00:01:42           1365  \n",
            "benroshan/factors-affecting-campus-placement                Campus Recruitment                                    5KB  2020-04-11 11:09:02           4782  \n",
            "bobbyscience/league-of-legends-diamond-ranked-games-10-min  League of Legends Diamond Ranked Games (10 min)     539KB  2020-04-13 13:53:02           2287  \n",
            "fireballbyedimyrnmom/us-counties-covid-19-dataset           US counties COVID 19 dataset                          1MB  2020-05-20 12:14:39           6901  \n",
            "divyansh22/flight-delay-prediction                          January Flight Delay Prediction                      23MB  2020-04-14 13:15:41           1671  \n",
            "clmentbisaillon/fake-and-real-news-dataset                  Fake and real news dataset                           41MB  2020-03-26 18:51:15           4478  \n",
            "ikiulian/global-hospital-beds-capacity-for-covid19          Global Hospital Beds Capacity (for covid-19)        284KB  2020-04-26 09:39:35           1998  \n"
          ],
          "name": "stdout"
        }
      ]
    },
    {
      "cell_type": "code",
      "metadata": {
        "id": "1AJ5hvAoGfOD",
        "colab_type": "code",
        "colab": {
          "base_uri": "https://localhost:8080/",
          "height": 68
        },
        "outputId": "22907ccb-1b0f-483d-ee30-4b96a1507e8a"
      },
      "source": [
        "#downloading the zipped dataset folder on cloud\n",
        "!kaggle datasets download -d mkechinov/ecommerce-behavior-data-from-multi-category-store -p /content"
      ],
      "execution_count": 24,
      "outputs": [
        {
          "output_type": "stream",
          "text": [
            "Downloading ecommerce-behavior-data-from-multi-category-store.zip to /content\n",
            "100% 4.28G/4.29G [00:55<00:00, 72.2MB/s]\n",
            "100% 4.29G/4.29G [00:55<00:00, 83.0MB/s]\n"
          ],
          "name": "stdout"
        }
      ]
    },
    {
      "cell_type": "code",
      "metadata": {
        "id": "weKBCchA7Oqz",
        "colab_type": "code",
        "colab": {
          "base_uri": "https://localhost:8080/",
          "height": 68
        },
        "outputId": "e146cf92-dfc7-4b5b-aee4-c82a5c0cb019"
      },
      "source": [
        "#unzipping the folder\n",
        "!unzip \\*.zip"
      ],
      "execution_count": 25,
      "outputs": [
        {
          "output_type": "stream",
          "text": [
            "Archive:  ecommerce-behavior-data-from-multi-category-store.zip\n",
            "  inflating: 2019-Nov.csv            \n",
            "  inflating: 2019-Oct.csv            \n"
          ],
          "name": "stdout"
        }
      ]
    },
    {
      "cell_type": "code",
      "metadata": {
        "id": "z5AebAvD7OnX",
        "colab_type": "code",
        "colab": {
          "base_uri": "https://localhost:8080/",
          "height": 411
        },
        "outputId": "6e8abc2e-7cb9-4a34-84e9-3c6568930dd0"
      },
      "source": [
        "#reading the dataframe\n",
        "import pandas as pd\n",
        "df = pd.read_csv('2019-Oct.csv')\n",
        "df.head()"
      ],
      "execution_count": 26,
      "outputs": [
        {
          "output_type": "execute_result",
          "data": {
            "text/html": [
              "<div>\n",
              "<style scoped>\n",
              "    .dataframe tbody tr th:only-of-type {\n",
              "        vertical-align: middle;\n",
              "    }\n",
              "\n",
              "    .dataframe tbody tr th {\n",
              "        vertical-align: top;\n",
              "    }\n",
              "\n",
              "    .dataframe thead th {\n",
              "        text-align: right;\n",
              "    }\n",
              "</style>\n",
              "<table border=\"1\" class=\"dataframe\">\n",
              "  <thead>\n",
              "    <tr style=\"text-align: right;\">\n",
              "      <th></th>\n",
              "      <th>event_time</th>\n",
              "      <th>event_type</th>\n",
              "      <th>product_id</th>\n",
              "      <th>category_id</th>\n",
              "      <th>category_code</th>\n",
              "      <th>brand</th>\n",
              "      <th>price</th>\n",
              "      <th>user_id</th>\n",
              "      <th>user_session</th>\n",
              "    </tr>\n",
              "  </thead>\n",
              "  <tbody>\n",
              "    <tr>\n",
              "      <th>0</th>\n",
              "      <td>2019-10-01 00:00:00 UTC</td>\n",
              "      <td>view</td>\n",
              "      <td>44600062</td>\n",
              "      <td>2103807459595387724</td>\n",
              "      <td>NaN</td>\n",
              "      <td>shiseido</td>\n",
              "      <td>35.79</td>\n",
              "      <td>541312140</td>\n",
              "      <td>72d76fde-8bb3-4e00-8c23-a032dfed738c</td>\n",
              "    </tr>\n",
              "    <tr>\n",
              "      <th>1</th>\n",
              "      <td>2019-10-01 00:00:00 UTC</td>\n",
              "      <td>view</td>\n",
              "      <td>3900821</td>\n",
              "      <td>2053013552326770905</td>\n",
              "      <td>appliances.environment.water_heater</td>\n",
              "      <td>aqua</td>\n",
              "      <td>33.20</td>\n",
              "      <td>554748717</td>\n",
              "      <td>9333dfbd-b87a-4708-9857-6336556b0fcc</td>\n",
              "    </tr>\n",
              "    <tr>\n",
              "      <th>2</th>\n",
              "      <td>2019-10-01 00:00:01 UTC</td>\n",
              "      <td>view</td>\n",
              "      <td>17200506</td>\n",
              "      <td>2053013559792632471</td>\n",
              "      <td>furniture.living_room.sofa</td>\n",
              "      <td>NaN</td>\n",
              "      <td>543.10</td>\n",
              "      <td>519107250</td>\n",
              "      <td>566511c2-e2e3-422b-b695-cf8e6e792ca8</td>\n",
              "    </tr>\n",
              "    <tr>\n",
              "      <th>3</th>\n",
              "      <td>2019-10-01 00:00:01 UTC</td>\n",
              "      <td>view</td>\n",
              "      <td>1307067</td>\n",
              "      <td>2053013558920217191</td>\n",
              "      <td>computers.notebook</td>\n",
              "      <td>lenovo</td>\n",
              "      <td>251.74</td>\n",
              "      <td>550050854</td>\n",
              "      <td>7c90fc70-0e80-4590-96f3-13c02c18c713</td>\n",
              "    </tr>\n",
              "    <tr>\n",
              "      <th>4</th>\n",
              "      <td>2019-10-01 00:00:04 UTC</td>\n",
              "      <td>view</td>\n",
              "      <td>1004237</td>\n",
              "      <td>2053013555631882655</td>\n",
              "      <td>electronics.smartphone</td>\n",
              "      <td>apple</td>\n",
              "      <td>1081.98</td>\n",
              "      <td>535871217</td>\n",
              "      <td>c6bd7419-2748-4c56-95b4-8cec9ff8b80d</td>\n",
              "    </tr>\n",
              "  </tbody>\n",
              "</table>\n",
              "</div>"
            ],
            "text/plain": [
              "                event_time  ...                          user_session\n",
              "0  2019-10-01 00:00:00 UTC  ...  72d76fde-8bb3-4e00-8c23-a032dfed738c\n",
              "1  2019-10-01 00:00:00 UTC  ...  9333dfbd-b87a-4708-9857-6336556b0fcc\n",
              "2  2019-10-01 00:00:01 UTC  ...  566511c2-e2e3-422b-b695-cf8e6e792ca8\n",
              "3  2019-10-01 00:00:01 UTC  ...  7c90fc70-0e80-4590-96f3-13c02c18c713\n",
              "4  2019-10-01 00:00:04 UTC  ...  c6bd7419-2748-4c56-95b4-8cec9ff8b80d\n",
              "\n",
              "[5 rows x 9 columns]"
            ]
          },
          "metadata": {
            "tags": []
          },
          "execution_count": 26
        }
      ]
    },
    {
      "cell_type": "code",
      "metadata": {
        "id": "PBESQKjVKxQ_",
        "colab_type": "code",
        "colab": {
          "base_uri": "https://localhost:8080/",
          "height": 68
        },
        "outputId": "8411b1a9-f367-4ab1-bcda-41ca246aa0fb"
      },
      "source": [
        "#columns in dataframe\n",
        "df.columns"
      ],
      "execution_count": 27,
      "outputs": [
        {
          "output_type": "execute_result",
          "data": {
            "text/plain": [
              "Index(['event_time', 'event_type', 'product_id', 'category_id',\n",
              "       'category_code', 'brand', 'price', 'user_id', 'user_session'],\n",
              "      dtype='object')"
            ]
          },
          "metadata": {
            "tags": []
          },
          "execution_count": 27
        }
      ]
    },
    {
      "cell_type": "code",
      "metadata": {
        "id": "0lL-LoIHKxab",
        "colab_type": "code",
        "colab": {
          "base_uri": "https://localhost:8080/",
          "height": 34
        },
        "outputId": "76f67b63-e6bd-4d01-aa7c-7acd6ecfe1ab"
      },
      "source": [
        "#unique visitors\n",
        "visitor = df['user_id'].nunique()\n",
        "print (\"visitors: {}\".format(visitor))"
      ],
      "execution_count": 28,
      "outputs": [
        {
          "output_type": "stream",
          "text": [
            "visitors: 3022290\n"
          ],
          "name": "stdout"
        }
      ]
    },
    {
      "cell_type": "code",
      "metadata": {
        "id": "SLWYwQtCKxhY",
        "colab_type": "code",
        "colab": {
          "base_uri": "https://localhost:8080/",
          "height": 187
        },
        "outputId": "49b27c6d-95c7-4dfc-cbc3-9a697422d67e"
      },
      "source": [
        "#number of null values\n",
        "df.isnull().sum()\n"
      ],
      "execution_count": 29,
      "outputs": [
        {
          "output_type": "execute_result",
          "data": {
            "text/plain": [
              "event_time              0\n",
              "event_type              0\n",
              "product_id              0\n",
              "category_id             0\n",
              "category_code    13515609\n",
              "brand             6117080\n",
              "price                   0\n",
              "user_id                 0\n",
              "user_session            2\n",
              "dtype: int64"
            ]
          },
          "metadata": {
            "tags": []
          },
          "execution_count": 29
        }
      ]
    },
    {
      "cell_type": "code",
      "metadata": {
        "id": "u6TgtuiwKxl8",
        "colab_type": "code",
        "colab": {
          "base_uri": "https://localhost:8080/",
          "height": 170
        },
        "outputId": "1ee9e5c1-ab57-4437-99c3-38536698f077"
      },
      "source": [
        "#unique values in all columns of given dataframe\n",
        "for i in df.columns:\n",
        "    print(i+\"  \",str(len(df[i].unique())))\n"
      ],
      "execution_count": 30,
      "outputs": [
        {
          "output_type": "stream",
          "text": [
            "event_time   2621538\n",
            "event_type   3\n",
            "product_id   166794\n",
            "category_id   624\n",
            "category_code   127\n",
            "brand   3445\n",
            "price   65298\n",
            "user_id   3022290\n",
            "user_session   9244422\n"
          ],
          "name": "stdout"
        }
      ]
    },
    {
      "cell_type": "code",
      "metadata": {
        "id": "TFnhhtSaKxxf",
        "colab_type": "code",
        "colab": {
          "base_uri": "https://localhost:8080/",
          "height": 187
        },
        "outputId": "12a902c9-6ddd-438b-888d-7890332af0f4"
      },
      "source": [
        "#datatypes of columns\n",
        "df.dtypes"
      ],
      "execution_count": 31,
      "outputs": [
        {
          "output_type": "execute_result",
          "data": {
            "text/plain": [
              "event_time        object\n",
              "event_type        object\n",
              "product_id         int64\n",
              "category_id        int64\n",
              "category_code     object\n",
              "brand             object\n",
              "price            float64\n",
              "user_id            int64\n",
              "user_session      object\n",
              "dtype: object"
            ]
          },
          "metadata": {
            "tags": []
          },
          "execution_count": 31
        }
      ]
    },
    {
      "cell_type": "code",
      "metadata": {
        "id": "86siKWdUKx2W",
        "colab_type": "code",
        "colab": {
          "base_uri": "https://localhost:8080/",
          "height": 204
        },
        "outputId": "fe8885e8-0df0-407e-e0f9-466061c8ae47"
      },
      "source": [
        "#value counts of brand\n",
        "df['brand'].value_counts()[:10]"
      ],
      "execution_count": 32,
      "outputs": [
        {
          "output_type": "execute_result",
          "data": {
            "text/plain": [
              "samsung    5282775\n",
              "apple      4122554\n",
              "xiaomi     3083763\n",
              "huawei     1111205\n",
              "lucente     655861\n",
              "lg          562404\n",
              "bosch       557090\n",
              "oppo        482887\n",
              "sony        456644\n",
              "acer        428153\n",
              "Name: brand, dtype: int64"
            ]
          },
          "metadata": {
            "tags": []
          },
          "execution_count": 32
        }
      ]
    },
    {
      "cell_type": "code",
      "metadata": {
        "id": "hfm6crvOKx9r",
        "colab_type": "code",
        "colab": {
          "base_uri": "https://localhost:8080/",
          "height": 204
        },
        "outputId": "fee8862d-e060-423a-8d3b-4e2ca2c4a165"
      },
      "source": [
        "#value counts of category_code\n",
        "df['category_code'].value_counts()[:10]"
      ],
      "execution_count": 33,
      "outputs": [
        {
          "output_type": "execute_result",
          "data": {
            "text/plain": [
              "electronics.smartphone              11507231\n",
              "electronics.clocks                   1311033\n",
              "computers.notebook                   1137623\n",
              "electronics.video.tv                 1113750\n",
              "electronics.audio.headphone          1100188\n",
              "appliances.kitchen.refrigerators      887755\n",
              "appliances.kitchen.washer             869404\n",
              "appliances.environment.vacuum         801670\n",
              "apparel.shoes                         763901\n",
              "auto.accessories.player               470208\n",
              "Name: category_code, dtype: int64"
            ]
          },
          "metadata": {
            "tags": []
          },
          "execution_count": 33
        }
      ]
    },
    {
      "cell_type": "code",
      "metadata": {
        "id": "xCfZ3nFVKyEf",
        "colab_type": "code",
        "colab": {
          "base_uri": "https://localhost:8080/",
          "height": 416
        },
        "outputId": "31ceca86-86f8-4287-95b2-de64aebc6c0b"
      },
      "source": [
        "#fluctuation of customer traffic within october\n",
        "d = df.loc[:,['event_time','user_id']]\n",
        "d['event_time'] = d['event_time'].apply(lambda s: str(s)[0:10])\n",
        "visitor_by_date = d.drop_duplicates().groupby(['event_time'])['user_id'].agg(['count']).sort_values(by=['event_time'], ascending=True)\n",
        "x = pd.Series(visitor_by_date.index.values).apply(lambda s: datetime.strptime(s, '%Y-%m-%d').date())\n",
        "y = visitor_by_date['count']\n",
        "plt.rcParams['figure.figsize'] = (20,8)\n",
        "plt.plot(x,y)\n",
        "plt.show()"
      ],
      "execution_count": 34,
      "outputs": [
        {
          "output_type": "display_data",
          "data": {
            "image/png": "[encoded data removed]",
            "text/plain": [
              "<Figure size 1440x576 with 1 Axes>"
            ]
          },
          "metadata": {
            "tags": [],
            "needs_background": "light"
          }
        }
      ]
    },
    {
      "cell_type": "markdown",
      "metadata": {
        "id": "ATICRI8RT7pJ",
        "colab_type": "text"
      },
      "source": [
        " So it can be easily observed that customer traffic increased from 10 october and remained consistent till 25th. After that it began to reduce.\n",
        "# New Section"
      ]
    },
    {
      "cell_type": "code",
      "metadata": {
        "id": "BBXHT5aDKyIZ",
        "colab_type": "code",
        "colab": {
          "base_uri": "https://localhost:8080/",
          "height": 34
        },
        "outputId": "370e8851-73db-486d-ae49-b225b4c7b537"
      },
      "source": [
        "plt.savefig('oct.jpg')"
      ],
      "execution_count": 35,
      "outputs": [
        {
          "output_type": "display_data",
          "data": {
            "text/plain": [
              "<Figure size 1440x576 with 0 Axes>"
            ]
          },
          "metadata": {
            "tags": []
          }
        }
      ]
    },
    {
      "cell_type": "code",
      "metadata": {
        "id": "o02mekliKyCu",
        "colab_type": "code",
        "colab": {
          "base_uri": "https://localhost:8080/",
          "height": 428
        },
        "outputId": "8f751488-a7b9-4aff-c6f7-ab5d547b1cf8"
      },
      "source": [
        "#items bought by customers\n",
        "purchased_items = df.loc[df['event_type'] == 'purchase']\n",
        "purchased_items = purchased_items.dropna(axis='rows')\n",
        "purchased_items.head()"
      ],
      "execution_count": 36,
      "outputs": [
        {
          "output_type": "execute_result",
          "data": {
            "text/html": [
              "<div>\n",
              "<style scoped>\n",
              "    .dataframe tbody tr th:only-of-type {\n",
              "        vertical-align: middle;\n",
              "    }\n",
              "\n",
              "    .dataframe tbody tr th {\n",
              "        vertical-align: top;\n",
              "    }\n",
              "\n",
              "    .dataframe thead th {\n",
              "        text-align: right;\n",
              "    }\n",
              "</style>\n",
              "<table border=\"1\" class=\"dataframe\">\n",
              "  <thead>\n",
              "    <tr style=\"text-align: right;\">\n",
              "      <th></th>\n",
              "      <th>event_time</th>\n",
              "      <th>event_type</th>\n",
              "      <th>product_id</th>\n",
              "      <th>category_id</th>\n",
              "      <th>category_code</th>\n",
              "      <th>brand</th>\n",
              "      <th>price</th>\n",
              "      <th>user_id</th>\n",
              "      <th>user_session</th>\n",
              "    </tr>\n",
              "  </thead>\n",
              "  <tbody>\n",
              "    <tr>\n",
              "      <th>162</th>\n",
              "      <td>2019-10-01 00:02:14 UTC</td>\n",
              "      <td>purchase</td>\n",
              "      <td>1004856</td>\n",
              "      <td>2053013555631882655</td>\n",
              "      <td>electronics.smartphone</td>\n",
              "      <td>samsung</td>\n",
              "      <td>130.76</td>\n",
              "      <td>543272936</td>\n",
              "      <td>8187d148-3c41-46d4-b0c0-9c08cd9dc564</td>\n",
              "    </tr>\n",
              "    <tr>\n",
              "      <th>308</th>\n",
              "      <td>2019-10-01 00:04:37 UTC</td>\n",
              "      <td>purchase</td>\n",
              "      <td>1002532</td>\n",
              "      <td>2053013555631882655</td>\n",
              "      <td>electronics.smartphone</td>\n",
              "      <td>apple</td>\n",
              "      <td>642.69</td>\n",
              "      <td>551377651</td>\n",
              "      <td>3c80f0d6-e9ec-4181-8c5c-837a30be2d68</td>\n",
              "    </tr>\n",
              "    <tr>\n",
              "      <th>442</th>\n",
              "      <td>2019-10-01 00:07:07 UTC</td>\n",
              "      <td>purchase</td>\n",
              "      <td>13800054</td>\n",
              "      <td>2053013557418656265</td>\n",
              "      <td>furniture.bathroom.toilet</td>\n",
              "      <td>santeri</td>\n",
              "      <td>54.42</td>\n",
              "      <td>555332717</td>\n",
              "      <td>1dea3ee2-2ded-42e8-8e7a-4e2ad6ae942f</td>\n",
              "    </tr>\n",
              "    <tr>\n",
              "      <th>574</th>\n",
              "      <td>2019-10-01 00:09:26 UTC</td>\n",
              "      <td>purchase</td>\n",
              "      <td>4804055</td>\n",
              "      <td>2053013554658804075</td>\n",
              "      <td>electronics.audio.headphone</td>\n",
              "      <td>apple</td>\n",
              "      <td>189.91</td>\n",
              "      <td>524601178</td>\n",
              "      <td>2af9b570-0942-4dcd-8f25-4d84fba82553</td>\n",
              "    </tr>\n",
              "    <tr>\n",
              "      <th>603</th>\n",
              "      <td>2019-10-01 00:09:54 UTC</td>\n",
              "      <td>purchase</td>\n",
              "      <td>4804056</td>\n",
              "      <td>2053013554658804075</td>\n",
              "      <td>electronics.audio.headphone</td>\n",
              "      <td>apple</td>\n",
              "      <td>161.98</td>\n",
              "      <td>551377651</td>\n",
              "      <td>3c80f0d6-e9ec-4181-8c5c-837a30be2d68</td>\n",
              "    </tr>\n",
              "  </tbody>\n",
              "</table>\n",
              "</div>"
            ],
            "text/plain": [
              "                  event_time  ...                          user_session\n",
              "162  2019-10-01 00:02:14 UTC  ...  8187d148-3c41-46d4-b0c0-9c08cd9dc564\n",
              "308  2019-10-01 00:04:37 UTC  ...  3c80f0d6-e9ec-4181-8c5c-837a30be2d68\n",
              "442  2019-10-01 00:07:07 UTC  ...  1dea3ee2-2ded-42e8-8e7a-4e2ad6ae942f\n",
              "574  2019-10-01 00:09:26 UTC  ...  2af9b570-0942-4dcd-8f25-4d84fba82553\n",
              "603  2019-10-01 00:09:54 UTC  ...  3c80f0d6-e9ec-4181-8c5c-837a30be2d68\n",
              "\n",
              "[5 rows x 9 columns]"
            ]
          },
          "metadata": {
            "tags": []
          },
          "execution_count": 36
        }
      ]
    },
    {
      "cell_type": "code",
      "metadata": {
        "id": "c_idCTU_U7JN",
        "colab_type": "code",
        "colab": {
          "base_uri": "https://localhost:8080/",
          "height": 700
        },
        "outputId": "d152193b-b37c-47f5-dc1f-38fb9b0d3199"
      },
      "source": [
        "#count of sold categorycodes\n",
        "sold_category = purchased_items.groupby('category_code')['category_code'].agg(['count']).sort_values(by='count',ascending=False)\n",
        "sold_category.head(20)"
      ],
      "execution_count": 37,
      "outputs": [
        {
          "output_type": "execute_result",
          "data": {
            "text/html": [
              "<div>\n",
              "<style scoped>\n",
              "    .dataframe tbody tr th:only-of-type {\n",
              "        vertical-align: middle;\n",
              "    }\n",
              "\n",
              "    .dataframe tbody tr th {\n",
              "        vertical-align: top;\n",
              "    }\n",
              "\n",
              "    .dataframe thead th {\n",
              "        text-align: right;\n",
              "    }\n",
              "</style>\n",
              "<table border=\"1\" class=\"dataframe\">\n",
              "  <thead>\n",
              "    <tr style=\"text-align: right;\">\n",
              "      <th></th>\n",
              "      <th>count</th>\n",
              "    </tr>\n",
              "    <tr>\n",
              "      <th>category_code</th>\n",
              "      <th></th>\n",
              "    </tr>\n",
              "  </thead>\n",
              "  <tbody>\n",
              "    <tr>\n",
              "      <th>electronics.smartphone</th>\n",
              "      <td>337575</td>\n",
              "    </tr>\n",
              "    <tr>\n",
              "      <th>electronics.audio.headphone</th>\n",
              "      <td>30439</td>\n",
              "    </tr>\n",
              "    <tr>\n",
              "      <th>electronics.video.tv</th>\n",
              "      <td>21548</td>\n",
              "    </tr>\n",
              "    <tr>\n",
              "      <th>electronics.clocks</th>\n",
              "      <td>16647</td>\n",
              "    </tr>\n",
              "    <tr>\n",
              "      <th>appliances.kitchen.washer</th>\n",
              "      <td>16059</td>\n",
              "    </tr>\n",
              "    <tr>\n",
              "      <th>computers.notebook</th>\n",
              "      <td>15547</td>\n",
              "    </tr>\n",
              "    <tr>\n",
              "      <th>appliances.environment.vacuum</th>\n",
              "      <td>12218</td>\n",
              "    </tr>\n",
              "    <tr>\n",
              "      <th>appliances.kitchen.refrigerators</th>\n",
              "      <td>8871</td>\n",
              "    </tr>\n",
              "    <tr>\n",
              "      <th>electronics.tablet</th>\n",
              "      <td>5599</td>\n",
              "    </tr>\n",
              "    <tr>\n",
              "      <th>electronics.telephone</th>\n",
              "      <td>3733</td>\n",
              "    </tr>\n",
              "    <tr>\n",
              "      <th>appliances.iron</th>\n",
              "      <td>3647</td>\n",
              "    </tr>\n",
              "    <tr>\n",
              "      <th>appliances.kitchen.microwave</th>\n",
              "      <td>3638</td>\n",
              "    </tr>\n",
              "    <tr>\n",
              "      <th>apparel.shoes</th>\n",
              "      <td>3398</td>\n",
              "    </tr>\n",
              "    <tr>\n",
              "      <th>computers.desktop</th>\n",
              "      <td>3091</td>\n",
              "    </tr>\n",
              "    <tr>\n",
              "      <th>appliances.kitchen.blender</th>\n",
              "      <td>3043</td>\n",
              "    </tr>\n",
              "    <tr>\n",
              "      <th>appliances.kitchen.kettle</th>\n",
              "      <td>2976</td>\n",
              "    </tr>\n",
              "    <tr>\n",
              "      <th>auto.accessories.player</th>\n",
              "      <td>2787</td>\n",
              "    </tr>\n",
              "    <tr>\n",
              "      <th>appliances.environment.water_heater</th>\n",
              "      <td>2694</td>\n",
              "    </tr>\n",
              "    <tr>\n",
              "      <th>electronics.audio.subwoofer</th>\n",
              "      <td>2509</td>\n",
              "    </tr>\n",
              "    <tr>\n",
              "      <th>computers.peripherals.printer</th>\n",
              "      <td>2491</td>\n",
              "    </tr>\n",
              "  </tbody>\n",
              "</table>\n",
              "</div>"
            ],
            "text/plain": [
              "                                      count\n",
              "category_code                              \n",
              "electronics.smartphone               337575\n",
              "electronics.audio.headphone           30439\n",
              "electronics.video.tv                  21548\n",
              "electronics.clocks                    16647\n",
              "appliances.kitchen.washer             16059\n",
              "computers.notebook                    15547\n",
              "appliances.environment.vacuum         12218\n",
              "appliances.kitchen.refrigerators       8871\n",
              "electronics.tablet                     5599\n",
              "electronics.telephone                  3733\n",
              "appliances.iron                        3647\n",
              "appliances.kitchen.microwave           3638\n",
              "apparel.shoes                          3398\n",
              "computers.desktop                      3091\n",
              "appliances.kitchen.blender             3043\n",
              "appliances.kitchen.kettle              2976\n",
              "auto.accessories.player                2787\n",
              "appliances.environment.water_heater    2694\n",
              "electronics.audio.subwoofer            2509\n",
              "computers.peripherals.printer          2491"
            ]
          },
          "metadata": {
            "tags": []
          },
          "execution_count": 37
        }
      ]
    },
    {
      "cell_type": "code",
      "metadata": {
        "id": "0LIh_bvgKyBJ",
        "colab_type": "code",
        "colab": {
          "base_uri": "https://localhost:8080/",
          "height": 700
        },
        "outputId": "a1f44803-09aa-4e8c-cc31-b348222b6c5e"
      },
      "source": [
        "#count of brands sold\n",
        "sold_brands = purchased_items.groupby('brand')['brand'].agg(['count']).sort_values(by='count',ascending=False)\n",
        "sold_brands.head(20)"
      ],
      "execution_count": 38,
      "outputs": [
        {
          "output_type": "execute_result",
          "data": {
            "text/html": [
              "<div>\n",
              "<style scoped>\n",
              "    .dataframe tbody tr th:only-of-type {\n",
              "        vertical-align: middle;\n",
              "    }\n",
              "\n",
              "    .dataframe tbody tr th {\n",
              "        vertical-align: top;\n",
              "    }\n",
              "\n",
              "    .dataframe thead th {\n",
              "        text-align: right;\n",
              "    }\n",
              "</style>\n",
              "<table border=\"1\" class=\"dataframe\">\n",
              "  <thead>\n",
              "    <tr style=\"text-align: right;\">\n",
              "      <th></th>\n",
              "      <th>count</th>\n",
              "    </tr>\n",
              "    <tr>\n",
              "      <th>brand</th>\n",
              "      <th></th>\n",
              "    </tr>\n",
              "  </thead>\n",
              "  <tbody>\n",
              "    <tr>\n",
              "      <th>samsung</th>\n",
              "      <td>171706</td>\n",
              "    </tr>\n",
              "    <tr>\n",
              "      <th>apple</th>\n",
              "      <td>142577</td>\n",
              "    </tr>\n",
              "    <tr>\n",
              "      <th>xiaomi</th>\n",
              "      <td>46595</td>\n",
              "    </tr>\n",
              "    <tr>\n",
              "      <th>huawei</th>\n",
              "      <td>23294</td>\n",
              "    </tr>\n",
              "    <tr>\n",
              "      <th>oppo</th>\n",
              "      <td>10891</td>\n",
              "    </tr>\n",
              "    <tr>\n",
              "      <th>lg</th>\n",
              "      <td>7831</td>\n",
              "    </tr>\n",
              "    <tr>\n",
              "      <th>acer</th>\n",
              "      <td>6882</td>\n",
              "    </tr>\n",
              "    <tr>\n",
              "      <th>elenberg</th>\n",
              "      <td>5435</td>\n",
              "    </tr>\n",
              "    <tr>\n",
              "      <th>indesit</th>\n",
              "      <td>5023</td>\n",
              "    </tr>\n",
              "    <tr>\n",
              "      <th>artel</th>\n",
              "      <td>4717</td>\n",
              "    </tr>\n",
              "    <tr>\n",
              "      <th>lenovo</th>\n",
              "      <td>4578</td>\n",
              "    </tr>\n",
              "    <tr>\n",
              "      <th>bosch</th>\n",
              "      <td>4055</td>\n",
              "    </tr>\n",
              "    <tr>\n",
              "      <th>beko</th>\n",
              "      <td>3839</td>\n",
              "    </tr>\n",
              "    <tr>\n",
              "      <th>hp</th>\n",
              "      <td>3411</td>\n",
              "    </tr>\n",
              "    <tr>\n",
              "      <th>haier</th>\n",
              "      <td>3044</td>\n",
              "    </tr>\n",
              "    <tr>\n",
              "      <th>casio</th>\n",
              "      <td>2660</td>\n",
              "    </tr>\n",
              "    <tr>\n",
              "      <th>tefal</th>\n",
              "      <td>2598</td>\n",
              "    </tr>\n",
              "    <tr>\n",
              "      <th>midea</th>\n",
              "      <td>2326</td>\n",
              "    </tr>\n",
              "    <tr>\n",
              "      <th>vitek</th>\n",
              "      <td>2292</td>\n",
              "    </tr>\n",
              "    <tr>\n",
              "      <th>sony</th>\n",
              "      <td>2233</td>\n",
              "    </tr>\n",
              "  </tbody>\n",
              "</table>\n",
              "</div>"
            ],
            "text/plain": [
              "           count\n",
              "brand           \n",
              "samsung   171706\n",
              "apple     142577\n",
              "xiaomi     46595\n",
              "huawei     23294\n",
              "oppo       10891\n",
              "lg          7831\n",
              "acer        6882\n",
              "elenberg    5435\n",
              "indesit     5023\n",
              "artel       4717\n",
              "lenovo      4578\n",
              "bosch       4055\n",
              "beko        3839\n",
              "hp          3411\n",
              "haier       3044\n",
              "casio       2660\n",
              "tefal       2598\n",
              "midea       2326\n",
              "vitek       2292\n",
              "sony        2233"
            ]
          },
          "metadata": {
            "tags": []
          },
          "execution_count": 38
        }
      ]
    },
    {
      "cell_type": "code",
      "metadata": {
        "id": "r585FWVzVU3R",
        "colab_type": "code",
        "colab": {
          "base_uri": "https://localhost:8080/",
          "height": 436
        },
        "outputId": "21eab883-7ac6-47ff-fe08-6d71afc650fb"
      },
      "source": [
        "#distribution of prices\n",
        "import seaborn as sns\n",
        "sns.distplot(purchased_items['price'], hist=True, kde=True, \n",
        "bins=int(36), color = 'darkblue', \n",
        "hist_kws={'edgecolor':'black'},\n",
        "kde_kws={'linewidth': 4})\n",
        "plt.show()\n"
      ],
      "execution_count": 39,
      "outputs": [
        {
          "output_type": "display_data",
          "data": {
            "image/png": "[encoded data removed]",
            "text/plain": [
              "<Figure size 1440x576 with 1 Axes>"
            ]
          },
          "metadata": {
            "tags": [],
            "needs_background": "light"
          }
        }
      ]
    },
    {
      "cell_type": "code",
      "metadata": {
        "id": "UFNOcCBvKx72",
        "colab_type": "code",
        "colab": {}
      },
      "source": [
        "#creating important columns and a predictive column:- is_purchased\n",
        "df_targets = df.loc[df[\"event_type\"].isin([\"cart\",\"purchase\"])].drop_duplicates(subset=['event_type', 'product_id','price', 'user_id','user_session'])\n",
        "df_targets[\"is_purchased\"] = np.where(df_targets[\"event_type\"]==\"purchase\",1,0)\n",
        "df_targets[\"is_purchased\"] = df_targets.groupby([\"user_session\",\"product_id\"])[\"is_purchased\"].transform(\"max\")\n",
        "df_targets = df_targets.loc[df_targets[\"event_type\"]==\"cart\"].drop_duplicates([\"user_session\",\"product_id\",\"is_purchased\"])\n",
        "df_targets['event_weekday'] = df_targets['event_time'].apply(lambda s: str(datetime.strptime(str(s)[0:10], \"%Y-%m-%d\").weekday()))\n",
        "df_targets.dropna(how='any', inplace=True)\n",
        "df_targets[\"category_code_main\"] = df_targets[\"category_code\"].str.split(\".\",expand=True)[0].astype('category')\n",
        "df_targets[\"category_code_sub\"] = df_targets[\"category_code\"].str.split(\".\",expand=True)[1].astype('category')\n",
        "cart_purchase_users = df.loc[df[\"event_type\"].isin([\"cart\",\"purchase\"])].drop_duplicates(subset=['user_id'])\n",
        "cart_purchase_users.dropna(how='any', inplace=True)\n",
        "cart_purchase_users_all = df.loc[df['user_id'].isin(cart_purchase_users['user_id'])]\n"
      ],
      "execution_count": 0,
      "outputs": []
    },
    {
      "cell_type": "code",
      "metadata": {
        "id": "LSdhssrfKx5C",
        "colab_type": "code",
        "colab": {
          "base_uri": "https://localhost:8080/",
          "height": 428
        },
        "outputId": "6ede16a2-14c6-4374-f107-7fee70c204d2"
      },
      "source": [
        "#all users having event types as cart and purchased\n",
        "activity_session = cart_purchase_users_all.groupby(['user_session'])['event_type'].count().reset_index()\n",
        "activity_session = activity_session.rename(columns={\"event_type\": \"activity_count\"})\n",
        "df_targets = df_targets.merge(activity_session, on='user_session', how='left')\n",
        "df_targets['activity_count'] = df_targets['activity_count'].fillna(0)\n",
        "df_targets.head()"
      ],
      "execution_count": 41,
      "outputs": [
        {
          "output_type": "execute_result",
          "data": {
            "text/html": [
              "<div>\n",
              "<style scoped>\n",
              "    .dataframe tbody tr th:only-of-type {\n",
              "        vertical-align: middle;\n",
              "    }\n",
              "\n",
              "    .dataframe tbody tr th {\n",
              "        vertical-align: top;\n",
              "    }\n",
              "\n",
              "    .dataframe thead th {\n",
              "        text-align: right;\n",
              "    }\n",
              "</style>\n",
              "<table border=\"1\" class=\"dataframe\">\n",
              "  <thead>\n",
              "    <tr style=\"text-align: right;\">\n",
              "      <th></th>\n",
              "      <th>event_time</th>\n",
              "      <th>event_type</th>\n",
              "      <th>product_id</th>\n",
              "      <th>category_id</th>\n",
              "      <th>category_code</th>\n",
              "      <th>brand</th>\n",
              "      <th>price</th>\n",
              "      <th>user_id</th>\n",
              "      <th>user_session</th>\n",
              "      <th>is_purchased</th>\n",
              "      <th>event_weekday</th>\n",
              "      <th>category_code_main</th>\n",
              "      <th>category_code_sub</th>\n",
              "      <th>activity_count</th>\n",
              "    </tr>\n",
              "  </thead>\n",
              "  <tbody>\n",
              "    <tr>\n",
              "      <th>0</th>\n",
              "      <td>2019-10-01 00:09:33 UTC</td>\n",
              "      <td>cart</td>\n",
              "      <td>1002524</td>\n",
              "      <td>2053013555631882655</td>\n",
              "      <td>electronics.smartphone</td>\n",
              "      <td>apple</td>\n",
              "      <td>515.67</td>\n",
              "      <td>524325294</td>\n",
              "      <td>0b74a829-f9d7-4654-b5b0-35bc9822c238</td>\n",
              "      <td>1.0</td>\n",
              "      <td>1</td>\n",
              "      <td>electronics</td>\n",
              "      <td>smartphone</td>\n",
              "      <td>4.0</td>\n",
              "    </tr>\n",
              "    <tr>\n",
              "      <th>1</th>\n",
              "      <td>2019-10-01 00:11:00 UTC</td>\n",
              "      <td>cart</td>\n",
              "      <td>4804056</td>\n",
              "      <td>2053013554658804075</td>\n",
              "      <td>electronics.audio.headphone</td>\n",
              "      <td>apple</td>\n",
              "      <td>161.98</td>\n",
              "      <td>533624186</td>\n",
              "      <td>e5ac3caa-e6d5-4d6b-ae06-2c18cd9ca683</td>\n",
              "      <td>0.0</td>\n",
              "      <td>1</td>\n",
              "      <td>electronics</td>\n",
              "      <td>audio</td>\n",
              "      <td>4.0</td>\n",
              "    </tr>\n",
              "    <tr>\n",
              "      <th>2</th>\n",
              "      <td>2019-10-01 02:17:59 UTC</td>\n",
              "      <td>cart</td>\n",
              "      <td>1004833</td>\n",
              "      <td>2053013555631882655</td>\n",
              "      <td>electronics.smartphone</td>\n",
              "      <td>samsung</td>\n",
              "      <td>174.76</td>\n",
              "      <td>536415846</td>\n",
              "      <td>685b5b42-f597-4a69-ab4c-ef96a30bc454</td>\n",
              "      <td>0.0</td>\n",
              "      <td>1</td>\n",
              "      <td>electronics</td>\n",
              "      <td>smartphone</td>\n",
              "      <td>7.0</td>\n",
              "    </tr>\n",
              "    <tr>\n",
              "      <th>3</th>\n",
              "      <td>2019-10-01 02:19:36 UTC</td>\n",
              "      <td>cart</td>\n",
              "      <td>1005003</td>\n",
              "      <td>2053013555631882655</td>\n",
              "      <td>electronics.smartphone</td>\n",
              "      <td>huawei</td>\n",
              "      <td>258.21</td>\n",
              "      <td>513632293</td>\n",
              "      <td>f2cc68f7-39d1-4a50-9dcf-f2a0921bdfda</td>\n",
              "      <td>1.0</td>\n",
              "      <td>1</td>\n",
              "      <td>electronics</td>\n",
              "      <td>smartphone</td>\n",
              "      <td>16.0</td>\n",
              "    </tr>\n",
              "    <tr>\n",
              "      <th>4</th>\n",
              "      <td>2019-10-01 02:19:43 UTC</td>\n",
              "      <td>cart</td>\n",
              "      <td>1004750</td>\n",
              "      <td>2053013555631882655</td>\n",
              "      <td>electronics.smartphone</td>\n",
              "      <td>samsung</td>\n",
              "      <td>197.43</td>\n",
              "      <td>555110488</td>\n",
              "      <td>ce885079-4d92-4fe6-92a3-377c5a2d8291</td>\n",
              "      <td>1.0</td>\n",
              "      <td>1</td>\n",
              "      <td>electronics</td>\n",
              "      <td>smartphone</td>\n",
              "      <td>10.0</td>\n",
              "    </tr>\n",
              "  </tbody>\n",
              "</table>\n",
              "</div>"
            ],
            "text/plain": [
              "                event_time event_type  ...  category_code_sub  activity_count\n",
              "0  2019-10-01 00:09:33 UTC       cart  ...         smartphone             4.0\n",
              "1  2019-10-01 00:11:00 UTC       cart  ...              audio             4.0\n",
              "2  2019-10-01 02:17:59 UTC       cart  ...         smartphone             7.0\n",
              "3  2019-10-01 02:19:36 UTC       cart  ...         smartphone            16.0\n",
              "4  2019-10-01 02:19:43 UTC       cart  ...         smartphone            10.0\n",
              "\n",
              "[5 rows x 14 columns]"
            ]
          },
          "metadata": {
            "tags": []
          },
          "execution_count": 41
        }
      ]
    },
    {
      "cell_type": "code",
      "metadata": {
        "id": "dmMoNtBoKx0i",
        "colab_type": "code",
        "colab": {
          "base_uri": "https://localhost:8080/",
          "height": 102
        },
        "outputId": "901f4f76-ff82-4445-d1bf-50a08e3af945"
      },
      "source": [
        "df_targets.columns"
      ],
      "execution_count": 42,
      "outputs": [
        {
          "output_type": "execute_result",
          "data": {
            "text/plain": [
              "Index(['event_time', 'event_type', 'product_id', 'category_id',\n",
              "       'category_code', 'brand', 'price', 'user_id', 'user_session',\n",
              "       'is_purchased', 'event_weekday', 'category_code_main',\n",
              "       'category_code_sub', 'activity_count'],\n",
              "      dtype='object')"
            ]
          },
          "metadata": {
            "tags": []
          },
          "execution_count": 42
        }
      ]
    },
    {
      "cell_type": "code",
      "metadata": {
        "id": "Bb6plmvlKxvJ",
        "colab_type": "code",
        "colab": {
          "base_uri": "https://localhost:8080/",
          "height": 272
        },
        "outputId": "6cd33324-386b-4e01-eea2-4fbddee5eb72"
      },
      "source": [
        "df_targets.isnull().sum()"
      ],
      "execution_count": 43,
      "outputs": [
        {
          "output_type": "execute_result",
          "data": {
            "text/plain": [
              "event_time            0\n",
              "event_type            0\n",
              "product_id            0\n",
              "category_id           0\n",
              "category_code         0\n",
              "brand                 0\n",
              "price                 0\n",
              "user_id               0\n",
              "user_session          0\n",
              "is_purchased          0\n",
              "event_weekday         0\n",
              "category_code_main    0\n",
              "category_code_sub     0\n",
              "activity_count        0\n",
              "dtype: int64"
            ]
          },
          "metadata": {
            "tags": []
          },
          "execution_count": 43
        }
      ]
    },
    {
      "cell_type": "code",
      "metadata": {
        "id": "--4rPKjzmtxQ",
        "colab_type": "code",
        "colab": {
          "base_uri": "https://localhost:8080/",
          "height": 272
        },
        "outputId": "29f6544a-3196-4971-a7a1-5223450138d0"
      },
      "source": [
        "df_targets.dtypes"
      ],
      "execution_count": 44,
      "outputs": [
        {
          "output_type": "execute_result",
          "data": {
            "text/plain": [
              "event_time              object\n",
              "event_type              object\n",
              "product_id               int64\n",
              "category_id              int64\n",
              "category_code           object\n",
              "brand                   object\n",
              "price                  float64\n",
              "user_id                  int64\n",
              "user_session            object\n",
              "is_purchased           float64\n",
              "event_weekday           object\n",
              "category_code_main    category\n",
              "category_code_sub     category\n",
              "activity_count         float64\n",
              "dtype: object"
            ]
          },
          "metadata": {
            "tags": []
          },
          "execution_count": 44
        }
      ]
    },
    {
      "cell_type": "code",
      "metadata": {
        "id": "zGsXoJ7bpYaR",
        "colab_type": "code",
        "colab": {
          "base_uri": "https://localhost:8080/",
          "height": 153
        },
        "outputId": "221cfd4d-feaa-4a43-e0dc-e6c6eadbac32"
      },
      "source": [
        "df_targets['event_weekday'].value_counts()"
      ],
      "execution_count": 45,
      "outputs": [
        {
          "output_type": "execute_result",
          "data": {
            "text/plain": [
              "4    83694\n",
              "1    82084\n",
              "2    79998\n",
              "3    77707\n",
              "6    76854\n",
              "5    76820\n",
              "0    69442\n",
              "Name: event_weekday, dtype: int64"
            ]
          },
          "metadata": {
            "tags": []
          },
          "execution_count": 45
        }
      ]
    },
    {
      "cell_type": "code",
      "metadata": {
        "id": "23uWreOepDjR",
        "colab_type": "code",
        "colab": {
          "base_uri": "https://localhost:8080/",
          "height": 204
        },
        "outputId": "814d9a3e-8e05-45d1-e94b-4aaf909df704"
      },
      "source": [
        "df_targets['category_code_main'].value_counts()[:10]"
      ],
      "execution_count": 46,
      "outputs": [
        {
          "output_type": "execute_result",
          "data": {
            "text/plain": [
              "electronics     451826\n",
              "appliances       62132\n",
              "computers        19481\n",
              "auto              5080\n",
              "construction      3992\n",
              "kids              1651\n",
              "furniture          989\n",
              "sport              584\n",
              "accessories        394\n",
              "medicine           354\n",
              "Name: category_code_main, dtype: int64"
            ]
          },
          "metadata": {
            "tags": []
          },
          "execution_count": 46
        }
      ]
    },
    {
      "cell_type": "code",
      "metadata": {
        "id": "b7wIBtyOpDgC",
        "colab_type": "code",
        "colab": {
          "base_uri": "https://localhost:8080/",
          "height": 204
        },
        "outputId": "8ec134d0-be93-4aec-ca12-09d203a41b71"
      },
      "source": [
        "df_targets['category_code_sub'].value_counts()[:10]"
      ],
      "execution_count": 47,
      "outputs": [
        {
          "output_type": "execute_result",
          "data": {
            "text/plain": [
              "smartphone     367434\n",
              "kitchen         39978\n",
              "audio           35065\n",
              "video           24772\n",
              "environment     15852\n",
              "clocks          14335\n",
              "notebook        11167\n",
              "tablet           6116\n",
              "accessories      5080\n",
              "tools            4312\n",
              "Name: category_code_sub, dtype: int64"
            ]
          },
          "metadata": {
            "tags": []
          },
          "execution_count": 47
        }
      ]
    },
    {
      "cell_type": "code",
      "metadata": {
        "id": "tRS77L2jpDeN",
        "colab_type": "code",
        "colab": {
          "base_uri": "https://localhost:8080/",
          "height": 204
        },
        "outputId": "4754b197-0dce-4832-e2ea-58bd43e1889c"
      },
      "source": [
        "df_targets['category_id'].value_counts()[:10]"
      ],
      "execution_count": 48,
      "outputs": [
        {
          "output_type": "execute_result",
          "data": {
            "text/plain": [
              "2053013555631882655    367434\n",
              "2053013554658804075     34129\n",
              "2053013554415534427     24609\n",
              "2053013563810775923     14607\n",
              "2053013553341792533     14297\n",
              "2053013565983425517     11692\n",
              "2053013558920217191     11144\n",
              "2053013563911439225      6776\n",
              "2172371436436455782      5868\n",
              "2053013554776244595      3340\n",
              "Name: category_id, dtype: int64"
            ]
          },
          "metadata": {
            "tags": []
          },
          "execution_count": 48
        }
      ]
    },
    {
      "cell_type": "code",
      "metadata": {
        "id": "LeGZLWkam296",
        "colab_type": "code",
        "colab": {
          "base_uri": "https://localhost:8080/",
          "height": 204
        },
        "outputId": "56da47ed-9aa2-464b-9679-11429d5e30f6"
      },
      "source": [
        "df_targets['brand'].value_counts()[:10]"
      ],
      "execution_count": 49,
      "outputs": [
        {
          "output_type": "execute_result",
          "data": {
            "text/plain": [
              "samsung     198185\n",
              "apple       146486\n",
              "xiaomi       53147\n",
              "huawei       27525\n",
              "oppo         13470\n",
              "lg            8429\n",
              "acer          6719\n",
              "elenberg      5451\n",
              "indesit       4607\n",
              "haier         4036\n",
              "Name: brand, dtype: int64"
            ]
          },
          "metadata": {
            "tags": []
          },
          "execution_count": 49
        }
      ]
    },
    {
      "cell_type": "code",
      "metadata": {
        "id": "Awv5_Lmqm3CD",
        "colab_type": "code",
        "colab": {}
      },
      "source": [
        "#binning of mobile phones\n",
        "a=['samsung','oppo','lg','huawei','xiaomi','apple']\n",
        "indicator=[]   \n",
        "for i in df_targets['brand']: \n",
        "    if i in a:\n",
        "        indicator.append(i)\n",
        "    else: \n",
        "        indicator.append('all other phone')\n",
        "df_targets.insert(len(df_targets.columns),\"MOB_BRAND\",indicator,False) "
      ],
      "execution_count": 0,
      "outputs": []
    },
    {
      "cell_type": "code",
      "metadata": {
        "id": "s60DKCx0m3IU",
        "colab_type": "code",
        "colab": {
          "base_uri": "https://localhost:8080/",
          "height": 204
        },
        "outputId": "d785f847-3f55-4140-9b75-4fe33d570017"
      },
      "source": [
        "df_targets['category_code'].value_counts()[:10]"
      ],
      "execution_count": 51,
      "outputs": [
        {
          "output_type": "execute_result",
          "data": {
            "text/plain": [
              "electronics.smartphone              367434\n",
              "electronics.audio.headphone          34129\n",
              "electronics.video.tv                 24673\n",
              "appliances.kitchen.washer            14607\n",
              "electronics.clocks                   14335\n",
              "appliances.environment.vacuum        11743\n",
              "computers.notebook                   11167\n",
              "appliances.kitchen.refrigerators      8433\n",
              "electronics.tablet                    6116\n",
              "electronics.telephone                 3706\n",
              "Name: category_code, dtype: int64"
            ]
          },
          "metadata": {
            "tags": []
          },
          "execution_count": 51
        }
      ]
    },
    {
      "cell_type": "code",
      "metadata": {
        "id": "0NNr7oBZm3MT",
        "colab_type": "code",
        "colab": {}
      },
      "source": [
        "#binning of category_codes\n",
        "a=['electronics.smartphone','electronics.audio.headphone','electronics.video.tv','appliances.kitchen.washer','electronics.clocks','appliances.environment.vacuum','computers.notebook']\n",
        "indicator=[]   \n",
        "for i in df_targets['category_code']: \n",
        "    if i in a:\n",
        "        indicator.append(i)\n",
        "    else: \n",
        "        indicator.append('all other categories')\n",
        "df_targets.insert(len(df_targets.columns),\"cat_codes\",indicator,False) "
      ],
      "execution_count": 0,
      "outputs": []
    },
    {
      "cell_type": "code",
      "metadata": {
        "id": "-b3_6-fQpw0e",
        "colab_type": "code",
        "colab": {
          "base_uri": "https://localhost:8080/",
          "height": 102
        },
        "outputId": "73e98c52-4853-486e-fd41-811a68b11e06"
      },
      "source": [
        "df_targets.columns"
      ],
      "execution_count": 53,
      "outputs": [
        {
          "output_type": "execute_result",
          "data": {
            "text/plain": [
              "Index(['event_time', 'event_type', 'product_id', 'category_id',\n",
              "       'category_code', 'brand', 'price', 'user_id', 'user_session',\n",
              "       'is_purchased', 'event_weekday', 'category_code_main',\n",
              "       'category_code_sub', 'activity_count', 'MOB_BRAND', 'cat_codes'],\n",
              "      dtype='object')"
            ]
          },
          "metadata": {
            "tags": []
          },
          "execution_count": 53
        }
      ]
    },
    {
      "cell_type": "code",
      "metadata": {
        "id": "o7kNNa7QmoUI",
        "colab_type": "code",
        "colab": {}
      },
      "source": [
        "#creation of training dataset\n",
        "df_train_targets=df_targets[['event_time', 'event_type', 'product_id', 'category_id',\n",
        "       'price', 'user_id', 'user_session',\n",
        "       'is_purchased', 'event_weekday', 'category_code_main',\n",
        "       'category_code_sub', 'activity_count', 'MOB_BRAND', 'cat_codes']].copy()\n",
        "from sklearn.preprocessing import LabelEncoder\n",
        "le=LabelEncoder()\n",
        "le_cols=['category_code_main','product_id', 'category_id','event_weekday','event_time', 'event_type','user_id', 'user_session',\n",
        "       'category_code_sub']\n",
        "#label encoding of above categorical columns       \n",
        "for i in le_cols:\n",
        "  df_train_targets[i]=le.fit_transform(df_train_targets[i])\n",
        " #creating dummies of mobile brand and categorical codes \n",
        "cat_cols=['MOB_BRAND', 'cat_codes']\n",
        "df_train_targets=pd.get_dummies(data=df_train_targets,columns=cat_cols) \n"
      ],
      "execution_count": 0,
      "outputs": []
    },
    {
      "cell_type": "code",
      "metadata": {
        "id": "9SXSeww_rh7f",
        "colab_type": "code",
        "colab": {
          "base_uri": "https://localhost:8080/",
          "height": 493
        },
        "outputId": "30a10b5e-fd0a-467d-8475-44f3c35867d9"
      },
      "source": [
        "df_train_targets.dtypes"
      ],
      "execution_count": 55,
      "outputs": [
        {
          "output_type": "execute_result",
          "data": {
            "text/plain": [
              "event_time                                   int64\n",
              "event_type                                   int64\n",
              "product_id                                   int64\n",
              "category_id                                  int64\n",
              "price                                      float64\n",
              "user_id                                      int64\n",
              "user_session                                 int64\n",
              "is_purchased                               float64\n",
              "event_weekday                                int64\n",
              "category_code_main                           int64\n",
              "category_code_sub                            int64\n",
              "activity_count                             float64\n",
              "MOB_BRAND_all other phone                    uint8\n",
              "MOB_BRAND_apple                              uint8\n",
              "MOB_BRAND_huawei                             uint8\n",
              "MOB_BRAND_lg                                 uint8\n",
              "MOB_BRAND_oppo                               uint8\n",
              "MOB_BRAND_samsung                            uint8\n",
              "MOB_BRAND_xiaomi                             uint8\n",
              "cat_codes_all other categories               uint8\n",
              "cat_codes_appliances.environment.vacuum      uint8\n",
              "cat_codes_appliances.kitchen.washer          uint8\n",
              "cat_codes_computers.notebook                 uint8\n",
              "cat_codes_electronics.audio.headphone        uint8\n",
              "cat_codes_electronics.clocks                 uint8\n",
              "cat_codes_electronics.smartphone             uint8\n",
              "cat_codes_electronics.video.tv               uint8\n",
              "dtype: object"
            ]
          },
          "metadata": {
            "tags": []
          },
          "execution_count": 55
        }
      ]
    },
    {
      "cell_type": "code",
      "metadata": {
        "id": "BFZUCZFGKxtA",
        "colab_type": "code",
        "colab": {}
      },
      "source": [
        "#importing libraries for model valuation and algorithms\n",
        "from sklearn import preprocessing\n",
        "from sklearn.metrics import roc_curve\n",
        "from sklearn.metrics import roc_auc_score\n",
        "from sklearn.model_selection import train_test_split\n",
        "from sklearn import svm\n",
        "from sklearn.linear_model import LogisticRegression\n",
        "#from sklearn.naive_bayes import GaussianNB\n",
        "from sklearn.tree import DecisionTreeClassifier\n",
        "from sklearn.metrics import confusion_matrix\n",
        "from sklearn.ensemble import RandomForestClassifier\n",
        "from sklearn.model_selection import cross_val_score\n",
        "from sklearn import metrics\n",
        "from IPython.display import display\n",
        "import xgboost as xgb\n",
        "from xgboost.sklearn import XGBClassifier"
      ],
      "execution_count": 0,
      "outputs": []
    },
    {
      "cell_type": "code",
      "metadata": {
        "id": "IcXOCqc7Kxqs",
        "colab_type": "code",
        "colab": {}
      },
      "source": [
        "#function for model evaluated parameters\n",
        "def model_eval(test_tar,pred):  \n",
        "    TN, FP, FN, TP = confusion_matrix(test_tar,pred).ravel()\n",
        "    accuracy = metrics.accuracy_score(test_tar,pred)\n",
        "    precision = metrics.precision_score(test_tar,pred)\n",
        "    recall = metrics.recall_score(test_tar,pred)\n",
        "    f_measure = (2*recall*precision)/(recall+precision)\n",
        "    auc=roc_auc_score (test_tar,pred)\n",
        "    specificity=(TN)/(TN+FP)\n",
        "    FPR=1-specificity\n",
        "    out = {}\n",
        "    out['True Positive']=TP\n",
        "    out['True Negative']=TN\n",
        "    out['False Positive']=FP\n",
        "    out['False Negative']=FN\n",
        "    out['FPR']=FPR\n",
        "    out['accuracy'] =  accuracy\n",
        "    out['precision'] = precision\n",
        "    out['recall'] = recall\n",
        "    out['f_measure'] = f_measure \n",
        "    out['auc_score']=round(auc,2)\n",
        "#     print(\"dekho\",fpr1)\n",
        "    return out"
      ],
      "execution_count": 0,
      "outputs": []
    },
    {
      "cell_type": "code",
      "metadata": {
        "id": "eUZvV4dhKxpA",
        "colab_type": "code",
        "colab": {
          "base_uri": "https://localhost:8080/",
          "height": 68
        },
        "outputId": "bd71b6f7-214f-43d3-bb7b-e62a653f56a9"
      },
      "source": [
        "df_train_targets['is_purchased'].value_counts()"
      ],
      "execution_count": 58,
      "outputs": [
        {
          "output_type": "execute_result",
          "data": {
            "text/plain": [
              "1.0    273908\n",
              "0.0    272691\n",
              "Name: is_purchased, dtype: int64"
            ]
          },
          "metadata": {
            "tags": []
          },
          "execution_count": 58
        }
      ]
    },
    {
      "cell_type": "code",
      "metadata": {
        "id": "BhFfGWWG1h5K",
        "colab_type": "code",
        "colab": {}
      },
      "source": [
        "# defining dependent and independent variables \n",
        "x=df_train_targets.drop(['is_purchased'],axis=1)\n",
        "y=df_train_targets['is_purchased']\n",
        "#train, test and dev split\n",
        "train_features, test_features, train_tar, test_tar = train_test_split(x, y, test_size = 0.2, random_state = 100)\n",
        "#taking test and deviation sets to be from a same distribution for hyperparameter tuning\n",
        "test_features,train_dev,test_tar,test_dev= train_test_split(test_features, test_tar, test_size = 0.5, random_state = 100)"
      ],
      "execution_count": 0,
      "outputs": []
    },
    {
      "cell_type": "markdown",
      "metadata": {
        "id": "Qozv5WLNZ_9B",
        "colab_type": "text"
      },
      "source": [
        "## **Ensemble Learning**"
      ]
    },
    {
      "cell_type": "markdown",
      "metadata": {
        "id": "hlyxCg92aAQp",
        "colab_type": "text"
      },
      "source": [
        "**Ensemble learning** is a machine learning paradigm where multiple models often called weak learners are trained to solve the same problem and combined to get better results. The main hypothesis is that when weak models are correctly combined we can obtain more robust models.So here several base models are combined to form an optimal model.\n",
        "\n",
        "**Weak Learners**:- The smaller building blocks for designing better and complex models since these algorithms either have a huge bias(underfitting) or a very high variance(overfitting).\n",
        "\n",
        "**Strong learners**:-Its a combination of several weak learners which has the ability to acheive better performances.The base learners may be homogeneous(i.e- just one basic algorithm like decision trees) or heterogeneous(i.e:- a combination of several base algorithms).\n",
        "\n",
        "The successive models chosen in ensemble learning techniques must be such that they tend to diminish the issues(high bias or variance) caused by the previous models and improve performance.For ex:- **the** **decision tree** **bagging ensemble achieves higher accuracy** **in comparison to the** **k-NN** **bagging ensemble**. K-NN are less sensitive to perturbation on training samples and therefore they are called **stable learners**.The stable learners won't improve generalization performance.\n",
        "\n",
        "The types of ensemble learning techniques is basically about the ways the base algorithms or weak learners are combined to improve performance.Predomintely there are three kinds of such combinations:-\n",
        "\n",
        "\n",
        "**1) Bagging Algorithms**\n",
        "**2) Boosting Algorithms**\n",
        "**3)Stacking Algorithms** \n",
        "\n",
        "Bagging and Boosting Algorithms will be discussed here."
      ]
    },
    {
      "cell_type": "markdown",
      "metadata": {
        "id": "BqlxhpuNaAbb",
        "colab_type": "text"
      },
      "source": [
        "## **Bagging Algorithms**\n",
        "\n"
      ]
    },
    {
      "cell_type": "markdown",
      "metadata": {
        "id": "Blw5qsqkaAM3",
        "colab_type": "text"
      },
      "source": [
        "These algorithms often consider homogeneous weak learners, learns them independently from each other in parallel to get a generalized result.It is also termed as **bootstrap aggregating**.It is generally focussed on getting an ensemble model with smaller variance than the weak learners.\n",
        "Bagging uses bootstrap sampling to obtain the data subsets for training the base learners. For aggregating the outputs of base learners, bagging uses voting for classification and averaging for regression.Bootstrap sampling seemingly appearing as a complicated terminology is nothing other than a random replacement leading to independent and identically distributed samples. The idea of bagging is then simple: we want to fit several independent models and average their predictions in order to obtain a model with a lower variance.\n",
        "\n",
        "**So bagging algorithms create multiple bootstrap samples and each bootstrap sample acts as a dataset on which the weak learners are trained and fitted.They are then aggregated or in other words their outputs are averaged(in regression) and maximum votes are taken(in classification). Since the samples were iid and were true representations of original dataset, we obtain a lower variance than those of the weak learners.**\n",
        "\n",
        "\n"
      ]
    },
    {
      "cell_type": "markdown",
      "metadata": {
        "id": "n51L1jpalFKl",
        "colab_type": "text"
      },
      "source": [
        "## **Random Forests**\n"
      ]
    },
    {
      "cell_type": "markdown",
      "metadata": {
        "id": "omTR5YrqlS5J",
        "colab_type": "text"
      },
      "source": [
        "Random Forest is an ensemble machine learning algorithm that follows the bagging technique. It is an extension of the bagging estimator algorithm. The base estimators in random forest are decision trees. **Random forest randomly selects a set of features which are used to decide the best split at each node of the decision tree.**\n",
        "So in very simple words, the bagging algorithms only subset over the number of observations in general but random forests also sample over the number of feeatures that can be kept since certain features may be more important than the others.\n",
        "**Another advantage of sampling over the features is that it makes the decision making process more robust to missing data.** This is understandable as certain features may have a large number of missing values and others may have very few or no missing values which can be taken into account.Random Forests are more effective in reduction of variance with a slight increment in bias than other bagging algorithms.\n"
      ]
    },
    {
      "cell_type": "markdown",
      "metadata": {
        "id": "4MhCAAJ8nj3A",
        "colab_type": "text"
      },
      "source": [
        "### Important Parameters in Random Forest Algorithms"
      ]
    },
    {
      "cell_type": "markdown",
      "metadata": {
        "id": "Xyeu5aMQoCEE",
        "colab_type": "text"
      },
      "source": [
        "1) **n_estimators**(default=100):- The number of trees in the forest."
      ]
    },
    {
      "cell_type": "markdown",
      "metadata": {
        "id": "9f2M-6-rpOWl",
        "colab_type": "text"
      },
      "source": [
        "2)**criterion(default=”gini”)**:- The function to measure the quality of a split. Supported criteria are “gini” for the Gini impurity and “entropy” for the information gain.\n"
      ]
    },
    {
      "cell_type": "markdown",
      "metadata": {
        "id": "1StTKsBgYfhX",
        "colab_type": "text"
      },
      "source": [
        "**3) max_depth(default=None)**:-The maximum depth of the tree. If None, then nodes are expanded until all leaves are pure or until all leaves contain less than min_samples_split samples.\n"
      ]
    },
    {
      "cell_type": "markdown",
      "metadata": {
        "id": "K5L26kwtYgXL",
        "colab_type": "text"
      },
      "source": [
        "**4) min_samples_split(default=2)**:- The minimum number of samples required to split an internal node:\n"
      ]
    },
    {
      "cell_type": "markdown",
      "metadata": {
        "id": "zJy6SJN6YgTc",
        "colab_type": "text"
      },
      "source": [
        "**5) max_features(default='auto')**:-The number of features to consider when looking for the best split.\n",
        "\n",
        "\n",
        "\n",
        "\n",
        "\n",
        "\n",
        "\n",
        "\n",
        "\n",
        "\n",
        "\n",
        "\n",
        "\n",
        "\n",
        "If “auto”, then max_features=sqrt(n_features).\n",
        "\n",
        "If “sqrt”, then max_features=sqrt(n_features) (same as “auto”).\n",
        "\n"
      ]
    },
    {
      "cell_type": "markdown",
      "metadata": {
        "id": "6xakxYvUYgQN",
        "colab_type": "text"
      },
      "source": [
        "**6) max_leaf_nodes(default=None)**:-Grow trees with max_leaf_nodes in best-first fashion. Best nodes are defined as relative reduction in impurity. If None then unlimited number of leaf nodes.\n",
        "\n"
      ]
    },
    {
      "cell_type": "markdown",
      "metadata": {
        "id": "tVS06bugYgM_",
        "colab_type": "text"
      },
      "source": [
        "**7) bootstrap(default=True)**:-Whether bootstrap samples are used when building trees. If False, the whole dataset is used to build each tree.\n"
      ]
    },
    {
      "cell_type": "markdown",
      "metadata": {
        "id": "c3fjxOrEYgJN",
        "colab_type": "text"
      },
      "source": [
        "**8) n_jobs(default=None)**:-The number of jobs to run in parallel. \n",
        ":-The number of jobs to run in parallel. \n"
      ]
    },
    {
      "cell_type": "markdown",
      "metadata": {
        "id": "LrWIY56VYgGD",
        "colab_type": "text"
      },
      "source": [
        ""
      ]
    },
    {
      "cell_type": "markdown",
      "metadata": {
        "id": "zfTTWJVnldPC",
        "colab_type": "text"
      },
      "source": [
        "### **Now we are gonna use Random Forests as a classification algorithm**"
      ]
    },
    {
      "cell_type": "code",
      "metadata": {
        "id": "hQY_GotIKxkd",
        "colab_type": "code",
        "colab": {
          "base_uri": "https://localhost:8080/",
          "height": 842
        },
        "outputId": "34264414-ac99-457f-c2fa-63f25c77d2b4"
      },
      "source": [
        "#Random Forests\n",
        "import time\n",
        "rf = RandomForestClassifier(n_estimators=200,min_samples_split=5,min_samples_leaf=4,max_features= 'auto',max_depth=13,bootstrap=False)\n",
        "t0=time.time()\n",
        "clf_gini = rf.fit(train_features,train_tar)\n",
        "t1=time.time()\n",
        "clf_gini_pred_test = clf_gini.predict(test_features)\n",
        "t2=time.time()\n",
        "clf_gini_pred_train = clf_gini.predict(train_features)\n",
        "clf_gini_pred_whole = clf_gini.predict(x)\n",
        "d1,d2,d3=[],[],[]\n",
        "w1=model_eval(test_tar,clf_gini_pred_test)\n",
        "d1.append(w1)\n",
        "w2=model_eval(train_tar,clf_gini_pred_train)\n",
        "d2.append(w2)\n",
        "w3=model_eval(y,clf_gini_pred_whole)\n",
        "d3.append(w3)\n",
        "print('Classifier Runtime: '+ str(t1-t0)+'s')\n",
        "print('Prediction Runtime: '+ str(t2-t1)+'s')\n",
        "print(\"FOR TEST SET\")\n",
        "Class_Algo_dt1= round(pd.DataFrame(d1,index=['80-20 split']),2)\n",
        "display(Class_Algo_dt1)\n",
        "print(\"FOR TRAIN SET\")\n",
        "Class_Algo_dt2= round(pd.DataFrame(d2,index=['80-20 split']),2)\n",
        "display(Class_Algo_dt2)\n",
        "print(\"FOR WHOLE SET\")\n",
        "Class_Algo_dt3= round(pd.DataFrame(d3,index=['80-20 split']),2)\n",
        "display(Class_Algo_dt3)\n",
        "fpr, tpr, thresholds = roc_curve(test_tar, clf_gini_pred_test)\n",
        "plt.plot(fpr, tpr)\n",
        "plt.plot([0, 1], [0, 1], color='darkblue', linestyle='--')\n",
        "plt.xlabel('False Positive Rate')\n",
        "plt.ylabel('True Positive Rate')\n",
        "plt.title('Receiver Operating Characteristic (ROC) Curve')\n",
        "plt.legend()\n",
        "plt.show()\n"
      ],
      "execution_count": 60,
      "outputs": [
        {
          "output_type": "stream",
          "text": [
            "Classifier Runtime: 229.34781765937805s\n",
            "Prediction Runtime: 1.8768038749694824s\n",
            "FOR TEST SET\n"
          ],
          "name": "stdout"
        },
        {
          "output_type": "display_data",
          "data": {
            "text/html": [
              "<div>\n",
              "<style scoped>\n",
              "    .dataframe tbody tr th:only-of-type {\n",
              "        vertical-align: middle;\n",
              "    }\n",
              "\n",
              "    .dataframe tbody tr th {\n",
              "        vertical-align: top;\n",
              "    }\n",
              "\n",
              "    .dataframe thead th {\n",
              "        text-align: right;\n",
              "    }\n",
              "</style>\n",
              "<table border=\"1\" class=\"dataframe\">\n",
              "  <thead>\n",
              "    <tr style=\"text-align: right;\">\n",
              "      <th></th>\n",
              "      <th>True Positive</th>\n",
              "      <th>True Negative</th>\n",
              "      <th>False Positive</th>\n",
              "      <th>False Negative</th>\n",
              "      <th>FPR</th>\n",
              "      <th>accuracy</th>\n",
              "      <th>precision</th>\n",
              "      <th>recall</th>\n",
              "      <th>f_measure</th>\n",
              "      <th>auc_score</th>\n",
              "    </tr>\n",
              "  </thead>\n",
              "  <tbody>\n",
              "    <tr>\n",
              "      <th>80-20 split</th>\n",
              "      <td>19283</td>\n",
              "      <td>14226</td>\n",
              "      <td>13198</td>\n",
              "      <td>7953</td>\n",
              "      <td>0.48</td>\n",
              "      <td>0.61</td>\n",
              "      <td>0.59</td>\n",
              "      <td>0.71</td>\n",
              "      <td>0.65</td>\n",
              "      <td>0.61</td>\n",
              "    </tr>\n",
              "  </tbody>\n",
              "</table>\n",
              "</div>"
            ],
            "text/plain": [
              "             True Positive  True Negative  ...  f_measure  auc_score\n",
              "80-20 split          19283          14226  ...       0.65       0.61\n",
              "\n",
              "[1 rows x 10 columns]"
            ]
          },
          "metadata": {
            "tags": []
          }
        },
        {
          "output_type": "stream",
          "text": [
            "FOR TRAIN SET\n"
          ],
          "name": "stdout"
        },
        {
          "output_type": "display_data",
          "data": {
            "text/html": [
              "<div>\n",
              "<style scoped>\n",
              "    .dataframe tbody tr th:only-of-type {\n",
              "        vertical-align: middle;\n",
              "    }\n",
              "\n",
              "    .dataframe tbody tr th {\n",
              "        vertical-align: top;\n",
              "    }\n",
              "\n",
              "    .dataframe thead th {\n",
              "        text-align: right;\n",
              "    }\n",
              "</style>\n",
              "<table border=\"1\" class=\"dataframe\">\n",
              "  <thead>\n",
              "    <tr style=\"text-align: right;\">\n",
              "      <th></th>\n",
              "      <th>True Positive</th>\n",
              "      <th>True Negative</th>\n",
              "      <th>False Positive</th>\n",
              "      <th>False Negative</th>\n",
              "      <th>FPR</th>\n",
              "      <th>accuracy</th>\n",
              "      <th>precision</th>\n",
              "      <th>recall</th>\n",
              "      <th>f_measure</th>\n",
              "      <th>auc_score</th>\n",
              "    </tr>\n",
              "  </thead>\n",
              "  <tbody>\n",
              "    <tr>\n",
              "      <th>80-20 split</th>\n",
              "      <td>164049</td>\n",
              "      <td>118884</td>\n",
              "      <td>99031</td>\n",
              "      <td>55315</td>\n",
              "      <td>0.45</td>\n",
              "      <td>0.65</td>\n",
              "      <td>0.62</td>\n",
              "      <td>0.75</td>\n",
              "      <td>0.68</td>\n",
              "      <td>0.65</td>\n",
              "    </tr>\n",
              "  </tbody>\n",
              "</table>\n",
              "</div>"
            ],
            "text/plain": [
              "             True Positive  True Negative  ...  f_measure  auc_score\n",
              "80-20 split         164049         118884  ...       0.68       0.65\n",
              "\n",
              "[1 rows x 10 columns]"
            ]
          },
          "metadata": {
            "tags": []
          }
        },
        {
          "output_type": "stream",
          "text": [
            "FOR WHOLE SET\n"
          ],
          "name": "stdout"
        },
        {
          "output_type": "display_data",
          "data": {
            "text/html": [
              "<div>\n",
              "<style scoped>\n",
              "    .dataframe tbody tr th:only-of-type {\n",
              "        vertical-align: middle;\n",
              "    }\n",
              "\n",
              "    .dataframe tbody tr th {\n",
              "        vertical-align: top;\n",
              "    }\n",
              "\n",
              "    .dataframe thead th {\n",
              "        text-align: right;\n",
              "    }\n",
              "</style>\n",
              "<table border=\"1\" class=\"dataframe\">\n",
              "  <thead>\n",
              "    <tr style=\"text-align: right;\">\n",
              "      <th></th>\n",
              "      <th>True Positive</th>\n",
              "      <th>True Negative</th>\n",
              "      <th>False Positive</th>\n",
              "      <th>False Negative</th>\n",
              "      <th>FPR</th>\n",
              "      <th>accuracy</th>\n",
              "      <th>precision</th>\n",
              "      <th>recall</th>\n",
              "      <th>f_measure</th>\n",
              "      <th>auc_score</th>\n",
              "    </tr>\n",
              "  </thead>\n",
              "  <tbody>\n",
              "    <tr>\n",
              "      <th>80-20 split</th>\n",
              "      <td>202750</td>\n",
              "      <td>147310</td>\n",
              "      <td>125381</td>\n",
              "      <td>71158</td>\n",
              "      <td>0.46</td>\n",
              "      <td>0.64</td>\n",
              "      <td>0.62</td>\n",
              "      <td>0.74</td>\n",
              "      <td>0.67</td>\n",
              "      <td>0.64</td>\n",
              "    </tr>\n",
              "  </tbody>\n",
              "</table>\n",
              "</div>"
            ],
            "text/plain": [
              "             True Positive  True Negative  ...  f_measure  auc_score\n",
              "80-20 split         202750         147310  ...       0.67       0.64\n",
              "\n",
              "[1 rows x 10 columns]"
            ]
          },
          "metadata": {
            "tags": []
          }
        },
        {
          "output_type": "stream",
          "text": [
            "No handles with labels found to put in legend.\n"
          ],
          "name": "stderr"
        },
        {
          "output_type": "display_data",
          "data": {
            "image/png": "[encoded data removed]",
            "text/plain": [
              "<Figure size 1440x576 with 1 Axes>"
            ]
          },
          "metadata": {
            "tags": [],
            "needs_background": "light"
          }
        }
      ]
    },
    {
      "cell_type": "code",
      "metadata": {
        "id": "hh0UUKxlKxfU",
        "colab_type": "code",
        "colab": {
          "base_uri": "https://localhost:8080/",
          "height": 173
        },
        "outputId": "dc2e7bcd-8016-4592-9466-0fa55de2f1df"
      },
      "source": [
        "#hyperparameter tuning\n",
        "from scipy.stats import randint \n",
        "from sklearn.model_selection import RandomizedSearchCV \n",
        "  \n",
        "# Creating the hyperparameter grid  \n",
        "from sklearn.model_selection import RandomizedSearchCV\n",
        "# Number of trees in random forest\n",
        "n_estimators = [200]\n",
        "# Number of features to consider at every split\n",
        "max_features = ['auto', 'sqrt']\n",
        "# Maximum number of levels in tree\n",
        "max_depth = [int(x) for x in np.linspace(5,50)]\n",
        "max_depth.append(None)\n",
        "# Minimum number of samples required to split a node\n",
        "min_samples_split = [2, 5, 10]\n",
        "# Minimum number of samples required at each leaf node\n",
        "min_samples_leaf = [1, 2, 4]\n",
        "# Method of selecting samples for training each tree\n",
        "bootstrap = [True, False]\n",
        "# Create the random grid\n",
        "random_grid = {'n_estimators': n_estimators,\n",
        "               'max_features': max_features,\n",
        "               'max_depth': max_depth,\n",
        "               'min_samples_split': min_samples_split,\n",
        "               'min_samples_leaf': min_samples_leaf,\n",
        "               'bootstrap': bootstrap}\n",
        "# Instantiating Decision Tree classifier \n",
        "tree = RandomForestClassifier() \n",
        "# Instantiating RandomizedSearchCV object \n",
        "tree_cv = RandomizedSearchCV(estimator=tree,n_iter=10,param_distributions=random_grid, cv =4,scoring='accuracy',n_jobs=-1,verbose=2) \n",
        "tree_cv.fit(train_dev,test_dev) \n",
        "  \n",
        "# Print the tuned parameters and score \n",
        "print(\"Tuned Decision Tree Parameters: {}\".format(tree_cv.best_params_)) \n",
        "print(\"Best score is {}\".format(tree_cv.best_score_)) \n"
      ],
      "execution_count": 61,
      "outputs": [
        {
          "output_type": "stream",
          "text": [
            "Fitting 4 folds for each of 10 candidates, totalling 40 fits\n"
          ],
          "name": "stdout"
        },
        {
          "output_type": "stream",
          "text": [
            "[Parallel(n_jobs=-1)]: Using backend LokyBackend with 2 concurrent workers.\n",
            "/usr/local/lib/python3.6/dist-packages/joblib/externals/loky/process_executor.py:691: UserWarning: A worker stopped while some jobs were given to the executor. This can be caused by a too short worker timeout or by a memory leak.\n",
            "  \"timeout or by a memory leak.\", UserWarning\n",
            "[Parallel(n_jobs=-1)]: Done  37 tasks      | elapsed: 10.5min\n",
            "[Parallel(n_jobs=-1)]: Done  40 out of  40 | elapsed: 11.1min finished\n"
          ],
          "name": "stderr"
        },
        {
          "output_type": "stream",
          "text": [
            "Tuned Decision Tree Parameters: {'n_estimators': 200, 'min_samples_split': 2, 'min_samples_leaf': 1, 'max_features': 'sqrt', 'max_depth': 16, 'bootstrap': False}\n",
            "Best score is 0.6021953896816684\n"
          ],
          "name": "stdout"
        }
      ]
    },
    {
      "cell_type": "code",
      "metadata": {
        "id": "xF6HQbMoKxde",
        "colab_type": "code",
        "colab": {
          "base_uri": "https://localhost:8080/",
          "height": 842
        },
        "outputId": "fa2c89f2-54f1-4418-9177-bc1f7b33b347"
      },
      "source": [
        "#Adaptive Boosting\n",
        "from sklearn.ensemble import AdaBoostClassifier\n",
        "import time\n",
        "adb = AdaBoostClassifier(n_estimators=200,learning_rate=0.3)\n",
        "t0=time.time()\n",
        "clf_gini = adb.fit(train_features,train_tar)\n",
        "t1=time.time()\n",
        "clf_gini_pred_test = clf_gini.predict(test_features)\n",
        "t2=time.time()\n",
        "clf_gini_pred_train = clf_gini.predict(train_features)\n",
        "clf_gini_pred_whole = clf_gini.predict(x)\n",
        "d1,d2,d3=[],[],[]\n",
        "w1=model_eval(test_tar,clf_gini_pred_test)\n",
        "d1.append(w1)\n",
        "w2=model_eval(train_tar,clf_gini_pred_train)\n",
        "d2.append(w2)\n",
        "w3=model_eval(y,clf_gini_pred_whole)\n",
        "d3.append(w3)\n",
        "print('Classifier Runtime: '+ str(t1-t0)+'s')\n",
        "print('Prediction Runtime: '+ str(t2-t1)+'s')\n",
        "print(\"FOR TEST SET\")\n",
        "Class_Algo_dt1= round(pd.DataFrame(d1,index=['80-20 split']),2)\n",
        "display(Class_Algo_dt1)\n",
        "print(\"FOR TRAIN SET\")\n",
        "Class_Algo_dt2= round(pd.DataFrame(d2,index=['80-20 split']),2)\n",
        "display(Class_Algo_dt2)\n",
        "print(\"FOR WHOLE SET\")\n",
        "Class_Algo_dt3= round(pd.DataFrame(d3,index=['80-20 split']),2)\n",
        "display(Class_Algo_dt3)\n",
        "fpr, tpr, thresholds = roc_curve(test_tar, clf_gini_pred_test)\n",
        "plt.plot(fpr, tpr)\n",
        "plt.plot([0, 1], [0, 1], color='darkblue', linestyle='--')\n",
        "plt.xlabel('False Positive Rate')\n",
        "plt.ylabel('True Positive Rate')\n",
        "plt.title('Receiver Operating Characteristic (ROC) Curve')\n",
        "plt.legend()\n",
        "plt.show()\n"
      ],
      "execution_count": 62,
      "outputs": [
        {
          "output_type": "stream",
          "text": [
            "Classifier Runtime: 146.84893155097961s\n",
            "Prediction Runtime: 2.5031867027282715s\n",
            "FOR TEST SET\n"
          ],
          "name": "stdout"
        },
        {
          "output_type": "display_data",
          "data": {
            "text/html": [
              "<div>\n",
              "<style scoped>\n",
              "    .dataframe tbody tr th:only-of-type {\n",
              "        vertical-align: middle;\n",
              "    }\n",
              "\n",
              "    .dataframe tbody tr th {\n",
              "        vertical-align: top;\n",
              "    }\n",
              "\n",
              "    .dataframe thead th {\n",
              "        text-align: right;\n",
              "    }\n",
              "</style>\n",
              "<table border=\"1\" class=\"dataframe\">\n",
              "  <thead>\n",
              "    <tr style=\"text-align: right;\">\n",
              "      <th></th>\n",
              "      <th>True Positive</th>\n",
              "      <th>True Negative</th>\n",
              "      <th>False Positive</th>\n",
              "      <th>False Negative</th>\n",
              "      <th>FPR</th>\n",
              "      <th>accuracy</th>\n",
              "      <th>precision</th>\n",
              "      <th>recall</th>\n",
              "      <th>f_measure</th>\n",
              "      <th>auc_score</th>\n",
              "    </tr>\n",
              "  </thead>\n",
              "  <tbody>\n",
              "    <tr>\n",
              "      <th>80-20 split</th>\n",
              "      <td>19468</td>\n",
              "      <td>13816</td>\n",
              "      <td>13608</td>\n",
              "      <td>7768</td>\n",
              "      <td>0.5</td>\n",
              "      <td>0.61</td>\n",
              "      <td>0.59</td>\n",
              "      <td>0.71</td>\n",
              "      <td>0.65</td>\n",
              "      <td>0.61</td>\n",
              "    </tr>\n",
              "  </tbody>\n",
              "</table>\n",
              "</div>"
            ],
            "text/plain": [
              "             True Positive  True Negative  ...  f_measure  auc_score\n",
              "80-20 split          19468          13816  ...       0.65       0.61\n",
              "\n",
              "[1 rows x 10 columns]"
            ]
          },
          "metadata": {
            "tags": []
          }
        },
        {
          "output_type": "stream",
          "text": [
            "FOR TRAIN SET\n"
          ],
          "name": "stdout"
        },
        {
          "output_type": "display_data",
          "data": {
            "text/html": [
              "<div>\n",
              "<style scoped>\n",
              "    .dataframe tbody tr th:only-of-type {\n",
              "        vertical-align: middle;\n",
              "    }\n",
              "\n",
              "    .dataframe tbody tr th {\n",
              "        vertical-align: top;\n",
              "    }\n",
              "\n",
              "    .dataframe thead th {\n",
              "        text-align: right;\n",
              "    }\n",
              "</style>\n",
              "<table border=\"1\" class=\"dataframe\">\n",
              "  <thead>\n",
              "    <tr style=\"text-align: right;\">\n",
              "      <th></th>\n",
              "      <th>True Positive</th>\n",
              "      <th>True Negative</th>\n",
              "      <th>False Positive</th>\n",
              "      <th>False Negative</th>\n",
              "      <th>FPR</th>\n",
              "      <th>accuracy</th>\n",
              "      <th>precision</th>\n",
              "      <th>recall</th>\n",
              "      <th>f_measure</th>\n",
              "      <th>auc_score</th>\n",
              "    </tr>\n",
              "  </thead>\n",
              "  <tbody>\n",
              "    <tr>\n",
              "      <th>80-20 split</th>\n",
              "      <td>157729</td>\n",
              "      <td>108930</td>\n",
              "      <td>108985</td>\n",
              "      <td>61635</td>\n",
              "      <td>0.5</td>\n",
              "      <td>0.61</td>\n",
              "      <td>0.59</td>\n",
              "      <td>0.72</td>\n",
              "      <td>0.65</td>\n",
              "      <td>0.61</td>\n",
              "    </tr>\n",
              "  </tbody>\n",
              "</table>\n",
              "</div>"
            ],
            "text/plain": [
              "             True Positive  True Negative  ...  f_measure  auc_score\n",
              "80-20 split         157729         108930  ...       0.65       0.61\n",
              "\n",
              "[1 rows x 10 columns]"
            ]
          },
          "metadata": {
            "tags": []
          }
        },
        {
          "output_type": "stream",
          "text": [
            "FOR WHOLE SET\n"
          ],
          "name": "stdout"
        },
        {
          "output_type": "display_data",
          "data": {
            "text/html": [
              "<div>\n",
              "<style scoped>\n",
              "    .dataframe tbody tr th:only-of-type {\n",
              "        vertical-align: middle;\n",
              "    }\n",
              "\n",
              "    .dataframe tbody tr th {\n",
              "        vertical-align: top;\n",
              "    }\n",
              "\n",
              "    .dataframe thead th {\n",
              "        text-align: right;\n",
              "    }\n",
              "</style>\n",
              "<table border=\"1\" class=\"dataframe\">\n",
              "  <thead>\n",
              "    <tr style=\"text-align: right;\">\n",
              "      <th></th>\n",
              "      <th>True Positive</th>\n",
              "      <th>True Negative</th>\n",
              "      <th>False Positive</th>\n",
              "      <th>False Negative</th>\n",
              "      <th>FPR</th>\n",
              "      <th>accuracy</th>\n",
              "      <th>precision</th>\n",
              "      <th>recall</th>\n",
              "      <th>f_measure</th>\n",
              "      <th>auc_score</th>\n",
              "    </tr>\n",
              "  </thead>\n",
              "  <tbody>\n",
              "    <tr>\n",
              "      <th>80-20 split</th>\n",
              "      <td>196851</td>\n",
              "      <td>136461</td>\n",
              "      <td>136230</td>\n",
              "      <td>77057</td>\n",
              "      <td>0.5</td>\n",
              "      <td>0.61</td>\n",
              "      <td>0.59</td>\n",
              "      <td>0.72</td>\n",
              "      <td>0.65</td>\n",
              "      <td>0.61</td>\n",
              "    </tr>\n",
              "  </tbody>\n",
              "</table>\n",
              "</div>"
            ],
            "text/plain": [
              "             True Positive  True Negative  ...  f_measure  auc_score\n",
              "80-20 split         196851         136461  ...       0.65       0.61\n",
              "\n",
              "[1 rows x 10 columns]"
            ]
          },
          "metadata": {
            "tags": []
          }
        },
        {
          "output_type": "stream",
          "text": [
            "No handles with labels found to put in legend.\n"
          ],
          "name": "stderr"
        },
        {
          "output_type": "display_data",
          "data": {
            "image/png": "[encoded data removed]",
            "text/plain": [
              "<Figure size 1440x576 with 1 Axes>"
            ]
          },
          "metadata": {
            "tags": [],
            "needs_background": "light"
          }
        }
      ]
    },
    {
      "cell_type": "code",
      "metadata": {
        "id": "NJSfTan3KxYS",
        "colab_type": "code",
        "colab": {}
      },
      "source": [
        "#xgboost ka use\n",
        "def modelfit(alg,dtrain,predictors,train_y,dtest,test_y,useTrainCV=False, cv_folds=5,early_stopping_rounds=50):\n",
        "    \n",
        "    if useTrainCV:\n",
        "        xgb_param = alg.get_xgb_params()\n",
        "        xgtrain = xgb.DMatrix(dtrain[predictors].values, label=train_y.values)\n",
        "        cvresult = xgb.cv(xgb_param, xgtrain, num_boost_round=alg.get_params()['n_estimators'], nfold=cv_folds,\n",
        "            metrics='auc', early_stopping_rounds=early_stopping_rounds)\n",
        "        alg.set_params(n_estimators=cvresult.shape[0])\n",
        "    \n",
        "    #Fit the algorithm on the data\n",
        "    alg.fit(dtrain[predictors], train_y,eval_metric='auc')\n",
        "        \n",
        "    #Predict training set:\n",
        "    dtrain_predictions = alg.predict(dtrain[predictors])\n",
        "    dtrain_predprob = alg.predict_proba(dtrain[predictors])[:,1]\n",
        "    \n",
        "    #Predict test set:\n",
        "    dtest_predictions = alg.predict(dtest[predictors])\n",
        "    dtest_predprob = alg.predict_proba(dtest[predictors])[:,1]\n",
        "    \n",
        "        \n",
        "    #Print model report:\n",
        "    print (\"\\nModel Report\")\n",
        "#     print (\"Accuracy : %.4g\" % metrics.accuracy_score(test_y.values, dtest_predictions))\n",
        "#     print (\"AUC Score (Train): %f\" % metrics.roc_auc_score(train_y, dtrain_predprob))\n",
        "    a1,a2=[],[] \n",
        "#evaluations on test set\n",
        "    w1=model_eval(test_tar, dtest_predictions)\n",
        "    a1.append(w1)\n",
        "#evaluations on train set\n",
        "    w2=model_eval(train_tar,dtrain_predictions)\n",
        "    a2.append(w2)\n",
        "#print(w)\n",
        "    print(\"FOR TEST SET\")\n",
        "    Class_Algo1= round(pd.DataFrame(a1,index=['80-20 split']),2)\n",
        "    display(Class_Algo1)\n",
        "    print(\"FOR TRAIN SET\")\n",
        "    Class_Algo2= round(pd.DataFrame(a2,index=['80-20 split']),2)\n",
        "    display(Class_Algo2)\n",
        "    fpr, tpr, thresholds = roc_curve(test_tar, dtest_predictions)\n",
        "    plt.plot(fpr, tpr)\n",
        "    plt.plot([0, 1], [0, 1], color='darkblue', linestyle='--')\n",
        "    plt.xlabel('False Positive Rate')\n",
        "    plt.ylabel('True Positive Rate')\n",
        "    plt.title('Receiver Operating Characteristic (ROC) Curve')\n",
        "    plt.legend()\n",
        "    plt.show() \n",
        "                    \n",
        "\n"
      ],
      "execution_count": 0,
      "outputs": []
    },
    {
      "cell_type": "code",
      "metadata": {
        "id": "NbHmJpE0KxWs",
        "colab_type": "code",
        "colab": {
          "base_uri": "https://localhost:8080/",
          "height": 728
        },
        "outputId": "b6b9d41b-25a1-41fb-c0df-2fc168d76542"
      },
      "source": [
        "\n",
        "train_features, test_features, train_tar, test_tar = train_test_split(x,y, test_size = 0.2, random_state = 100)\n",
        "predictors=train_features.columns\n",
        "xgb1 = XGBClassifier(n_estimators=200, objective='binary:logistic',nthread=1,colsample_bytree=0.7465358812035496,gamma=0.2,learning_rate=0.2,max_depth=3,min_child_weight=1.113725423172304,subsample=0.9867245659081166)\n",
        "modelfit(xgb1, train_features,predictors,train_tar,test_features,test_tar)\n"
      ],
      "execution_count": 64,
      "outputs": [
        {
          "output_type": "stream",
          "text": [
            "\n",
            "Model Report\n",
            "FOR TEST SET\n"
          ],
          "name": "stdout"
        },
        {
          "output_type": "display_data",
          "data": {
            "text/html": [
              "<div>\n",
              "<style scoped>\n",
              "    .dataframe tbody tr th:only-of-type {\n",
              "        vertical-align: middle;\n",
              "    }\n",
              "\n",
              "    .dataframe tbody tr th {\n",
              "        vertical-align: top;\n",
              "    }\n",
              "\n",
              "    .dataframe thead th {\n",
              "        text-align: right;\n",
              "    }\n",
              "</style>\n",
              "<table border=\"1\" class=\"dataframe\">\n",
              "  <thead>\n",
              "    <tr style=\"text-align: right;\">\n",
              "      <th></th>\n",
              "      <th>True Positive</th>\n",
              "      <th>True Negative</th>\n",
              "      <th>False Positive</th>\n",
              "      <th>False Negative</th>\n",
              "      <th>FPR</th>\n",
              "      <th>accuracy</th>\n",
              "      <th>precision</th>\n",
              "      <th>recall</th>\n",
              "      <th>f_measure</th>\n",
              "      <th>auc_score</th>\n",
              "    </tr>\n",
              "  </thead>\n",
              "  <tbody>\n",
              "    <tr>\n",
              "      <th>80-20 split</th>\n",
              "      <td>38471</td>\n",
              "      <td>29176</td>\n",
              "      <td>25600</td>\n",
              "      <td>16073</td>\n",
              "      <td>0.47</td>\n",
              "      <td>0.62</td>\n",
              "      <td>0.6</td>\n",
              "      <td>0.71</td>\n",
              "      <td>0.65</td>\n",
              "      <td>0.62</td>\n",
              "    </tr>\n",
              "  </tbody>\n",
              "</table>\n",
              "</div>"
            ],
            "text/plain": [
              "             True Positive  True Negative  ...  f_measure  auc_score\n",
              "80-20 split          38471          29176  ...       0.65       0.62\n",
              "\n",
              "[1 rows x 10 columns]"
            ]
          },
          "metadata": {
            "tags": []
          }
        },
        {
          "output_type": "stream",
          "text": [
            "FOR TRAIN SET\n"
          ],
          "name": "stdout"
        },
        {
          "output_type": "display_data",
          "data": {
            "text/html": [
              "<div>\n",
              "<style scoped>\n",
              "    .dataframe tbody tr th:only-of-type {\n",
              "        vertical-align: middle;\n",
              "    }\n",
              "\n",
              "    .dataframe tbody tr th {\n",
              "        vertical-align: top;\n",
              "    }\n",
              "\n",
              "    .dataframe thead th {\n",
              "        text-align: right;\n",
              "    }\n",
              "</style>\n",
              "<table border=\"1\" class=\"dataframe\">\n",
              "  <thead>\n",
              "    <tr style=\"text-align: right;\">\n",
              "      <th></th>\n",
              "      <th>True Positive</th>\n",
              "      <th>True Negative</th>\n",
              "      <th>False Positive</th>\n",
              "      <th>False Negative</th>\n",
              "      <th>FPR</th>\n",
              "      <th>accuracy</th>\n",
              "      <th>precision</th>\n",
              "      <th>recall</th>\n",
              "      <th>f_measure</th>\n",
              "      <th>auc_score</th>\n",
              "    </tr>\n",
              "  </thead>\n",
              "  <tbody>\n",
              "    <tr>\n",
              "      <th>80-20 split</th>\n",
              "      <td>155724</td>\n",
              "      <td>116450</td>\n",
              "      <td>101465</td>\n",
              "      <td>63640</td>\n",
              "      <td>0.47</td>\n",
              "      <td>0.62</td>\n",
              "      <td>0.61</td>\n",
              "      <td>0.71</td>\n",
              "      <td>0.65</td>\n",
              "      <td>0.62</td>\n",
              "    </tr>\n",
              "  </tbody>\n",
              "</table>\n",
              "</div>"
            ],
            "text/plain": [
              "             True Positive  True Negative  ...  f_measure  auc_score\n",
              "80-20 split         155724         116450  ...       0.65       0.62\n",
              "\n",
              "[1 rows x 10 columns]"
            ]
          },
          "metadata": {
            "tags": []
          }
        },
        {
          "output_type": "stream",
          "text": [
            "No handles with labels found to put in legend.\n"
          ],
          "name": "stderr"
        },
        {
          "output_type": "display_data",
          "data": {
            "image/png": "[encoded data removed]",
            "text/plain": [
              "<Figure size 1440x576 with 1 Axes>"
            ]
          },
          "metadata": {
            "tags": [],
            "needs_background": "light"
          }
        }
      ]
    },
    {
      "cell_type": "code",
      "metadata": {
        "id": "Lx88-l1BKxUA",
        "colab_type": "code",
        "colab": {
          "base_uri": "https://localhost:8080/",
          "height": 139
        },
        "outputId": "8c05bd1c-8b49-4681-da06-286b9a4663cc"
      },
      "source": [
        "#hyperparameter tuning\n",
        "from scipy.stats import uniform  \n",
        "from sklearn.model_selection import RandomizedSearchCV \n",
        "# Creating the hyperparameter grid  \n",
        "# param_dist = {\"max_depth\": uniform(4, 15), \n",
        "#                \"n_estimators\": [100],\n",
        "#               \"colsample_bylevel\": uniform(1,3)\n",
        "#               \"objective\":['binary:logistic'],\n",
        "#               \"learning_rate\": uniform(0.1,0.3),\n",
        "#               \"max_features\": uniform(1,79), \n",
        "#               \"min_samples_leaf\": uniform(1, 15), \n",
        "#                \"silent\":[True,False],\n",
        "#                \"reg_alpha\": [0,1],\n",
        "#                 \"reg_lambda\": [0,1]} \n",
        "param_dist = {\n",
        "        'min_child_weight': uniform(1,2),\n",
        "        'gamma': [i/10 for i in range(1,5)],\n",
        "        'subsample': uniform(0.1,1),\n",
        "        'colsample_bytree': uniform(0.5,1),\n",
        "        'max_depth': [3, 4, 5,7,9,11],\n",
        "        'learning_rate': [i/10 for i in range(1,5)]\n",
        "        }\n",
        "# Instantiating Decision Tree classifier \n",
        "xgb1 = XGBClassifier(n_estimators=200, objective='binary:logistic',nthread=1)\n",
        "# Instantiating RandomizedSearchCV object \n",
        "tree_cv = RandomizedSearchCV(xgb1, param_distributions=param_dist, n_iter=25, scoring='roc_auc', n_jobs=-1, cv=4, verbose=3, random_state=100) \n",
        "tree_cv.fit(test_features,test_tar) \n",
        "  \n",
        "# Print the tuned parameters and score \n",
        "print(\"Tuned Decision Tree Parameters: {}\".format(tree_cv.best_params_)) \n",
        "print(\"Best score is {}\".format(tree_cv.best_score_)) "
      ],
      "execution_count": 65,
      "outputs": [
        {
          "output_type": "stream",
          "text": [
            "Fitting 4 folds for each of 25 candidates, totalling 100 fits\n"
          ],
          "name": "stdout"
        },
        {
          "output_type": "stream",
          "text": [
            "[Parallel(n_jobs=-1)]: Using backend LokyBackend with 2 concurrent workers.\n",
            "[Parallel(n_jobs=-1)]: Done  28 tasks      | elapsed:  2.9min\n",
            "[Parallel(n_jobs=-1)]: Done 100 out of 100 | elapsed: 18.5min finished\n"
          ],
          "name": "stderr"
        },
        {
          "output_type": "stream",
          "text": [
            "Tuned Decision Tree Parameters: {'colsample_bytree': 0.7465358812035496, 'gamma': 0.2, 'learning_rate': 0.2, 'max_depth': 3, 'min_child_weight': 1.113725423172304, 'subsample': 0.9867245659081166}\n",
            "Best score is 0.6658578104899603\n"
          ],
          "name": "stdout"
        }
      ]
    },
    {
      "cell_type": "code",
      "metadata": {
        "id": "25CX_ZbuKxOs",
        "colab_type": "code",
        "colab": {
          "base_uri": "https://localhost:8080/",
          "height": 477
        },
        "outputId": "3f49c3cb-090b-4556-9290-8c2978e6f4e2"
      },
      "source": [
        "#train,test rmse mean and std\n",
        "data_dmatrix = xgb.DMatrix(data=train_features,label=train_tar)\n",
        "params = {\"objective\":\"reg:logistic\",'colsample_bytree': 0.3,'learning_rate': 0.1,\n",
        "                'max_depth': 5, 'alpha': 10}\n",
        "\n",
        "cv_results = xgb.cv(dtrain=data_dmatrix , params=params, nfold=3,\n",
        "                    num_boost_round=50,early_stopping_rounds=10,metrics=\"rmse\", as_pandas=True, seed=123)\n",
        "print(cv_results.head())\n",
        "\n",
        "#importance graphs\n",
        "xgb.plot_importance(xgb1)\n",
        "plt.rcParams['figure.figsize'] = [5, 5]\n",
        "plt.show()\n"
      ],
      "execution_count": 66,
      "outputs": [
        {
          "output_type": "stream",
          "text": [
            "   train-rmse-mean  train-rmse-std  test-rmse-mean  test-rmse-std\n",
            "0         0.496200        0.000054        0.496267       0.000015\n",
            "1         0.493904        0.001262        0.493965       0.001244\n",
            "2         0.492616        0.001913        0.492652       0.001947\n",
            "3         0.492108        0.001978        0.492147       0.001974\n",
            "4         0.490822        0.002308        0.490913       0.002245\n"
          ],
          "name": "stdout"
        },
        {
          "output_type": "error",
          "ename": "XGBoostError",
          "evalue": "ignored",
          "traceback": [
            "\u001b[0;31m---------------------------------------------------------------------------\u001b[0m",
            "\u001b[0;31mXGBoostError\u001b[0m                              Traceback (most recent call last)",
            "\u001b[0;32m<ipython-input-66-395d534640c7>\u001b[0m in \u001b[0;36m<module>\u001b[0;34m()\u001b[0m\n\u001b[1;32m      9\u001b[0m \u001b[0;34m\u001b[0m\u001b[0m\n\u001b[1;32m     10\u001b[0m \u001b[0;31m#importance graphs\u001b[0m\u001b[0;34m\u001b[0m\u001b[0;34m\u001b[0m\u001b[0;34m\u001b[0m\u001b[0m\n\u001b[0;32m---> 11\u001b[0;31m \u001b[0mxgb\u001b[0m\u001b[0;34m.\u001b[0m\u001b[0mplot_importance\u001b[0m\u001b[0;34m(\u001b[0m\u001b[0mxgb1\u001b[0m\u001b[0;34m)\u001b[0m\u001b[0;34m\u001b[0m\u001b[0;34m\u001b[0m\u001b[0m\n\u001b[0m\u001b[1;32m     12\u001b[0m \u001b[0mplt\u001b[0m\u001b[0;34m.\u001b[0m\u001b[0mrcParams\u001b[0m\u001b[0;34m[\u001b[0m\u001b[0;34m'figure.figsize'\u001b[0m\u001b[0;34m]\u001b[0m \u001b[0;34m=\u001b[0m \u001b[0;34m[\u001b[0m\u001b[0;36m5\u001b[0m\u001b[0;34m,\u001b[0m \u001b[0;36m5\u001b[0m\u001b[0;34m]\u001b[0m\u001b[0;34m\u001b[0m\u001b[0;34m\u001b[0m\u001b[0m\n\u001b[1;32m     13\u001b[0m \u001b[0mplt\u001b[0m\u001b[0;34m.\u001b[0m\u001b[0mshow\u001b[0m\u001b[0;34m(\u001b[0m\u001b[0;34m)\u001b[0m\u001b[0;34m\u001b[0m\u001b[0;34m\u001b[0m\u001b[0m\n",
            "\u001b[0;32m/usr/local/lib/python3.6/dist-packages/xgboost/plotting.py\u001b[0m in \u001b[0;36mplot_importance\u001b[0;34m(booster, ax, height, xlim, ylim, title, xlabel, ylabel, importance_type, max_num_features, grid, show_values, **kwargs)\u001b[0m\n\u001b[1;32m     62\u001b[0m \u001b[0;34m\u001b[0m\u001b[0m\n\u001b[1;32m     63\u001b[0m     \u001b[0;32mif\u001b[0m \u001b[0misinstance\u001b[0m\u001b[0;34m(\u001b[0m\u001b[0mbooster\u001b[0m\u001b[0;34m,\u001b[0m \u001b[0mXGBModel\u001b[0m\u001b[0;34m)\u001b[0m\u001b[0;34m:\u001b[0m\u001b[0;34m\u001b[0m\u001b[0;34m\u001b[0m\u001b[0m\n\u001b[0;32m---> 64\u001b[0;31m         \u001b[0mimportance\u001b[0m \u001b[0;34m=\u001b[0m \u001b[0mbooster\u001b[0m\u001b[0;34m.\u001b[0m\u001b[0mget_booster\u001b[0m\u001b[0;34m(\u001b[0m\u001b[0;34m)\u001b[0m\u001b[0;34m.\u001b[0m\u001b[0mget_score\u001b[0m\u001b[0;34m(\u001b[0m\u001b[0mimportance_type\u001b[0m\u001b[0;34m=\u001b[0m\u001b[0mimportance_type\u001b[0m\u001b[0;34m)\u001b[0m\u001b[0;34m\u001b[0m\u001b[0;34m\u001b[0m\u001b[0m\n\u001b[0m\u001b[1;32m     65\u001b[0m     \u001b[0;32melif\u001b[0m \u001b[0misinstance\u001b[0m\u001b[0;34m(\u001b[0m\u001b[0mbooster\u001b[0m\u001b[0;34m,\u001b[0m \u001b[0mBooster\u001b[0m\u001b[0;34m)\u001b[0m\u001b[0;34m:\u001b[0m\u001b[0;34m\u001b[0m\u001b[0;34m\u001b[0m\u001b[0m\n\u001b[1;32m     66\u001b[0m         \u001b[0mimportance\u001b[0m \u001b[0;34m=\u001b[0m \u001b[0mbooster\u001b[0m\u001b[0;34m.\u001b[0m\u001b[0mget_score\u001b[0m\u001b[0;34m(\u001b[0m\u001b[0mimportance_type\u001b[0m\u001b[0;34m=\u001b[0m\u001b[0mimportance_type\u001b[0m\u001b[0;34m)\u001b[0m\u001b[0;34m\u001b[0m\u001b[0;34m\u001b[0m\u001b[0m\n",
            "\u001b[0;32m/usr/local/lib/python3.6/dist-packages/xgboost/sklearn.py\u001b[0m in \u001b[0;36mget_booster\u001b[0;34m(self)\u001b[0m\n\u001b[1;32m    191\u001b[0m         \"\"\"\n\u001b[1;32m    192\u001b[0m         \u001b[0;32mif\u001b[0m \u001b[0mself\u001b[0m\u001b[0;34m.\u001b[0m\u001b[0m_Booster\u001b[0m \u001b[0;32mis\u001b[0m \u001b[0;32mNone\u001b[0m\u001b[0;34m:\u001b[0m\u001b[0;34m\u001b[0m\u001b[0;34m\u001b[0m\u001b[0m\n\u001b[0;32m--> 193\u001b[0;31m             \u001b[0;32mraise\u001b[0m \u001b[0mXGBoostError\u001b[0m\u001b[0;34m(\u001b[0m\u001b[0;34m'need to call fit or load_model beforehand'\u001b[0m\u001b[0;34m)\u001b[0m\u001b[0;34m\u001b[0m\u001b[0;34m\u001b[0m\u001b[0m\n\u001b[0m\u001b[1;32m    194\u001b[0m         \u001b[0;32mreturn\u001b[0m \u001b[0mself\u001b[0m\u001b[0;34m.\u001b[0m\u001b[0m_Booster\u001b[0m\u001b[0;34m\u001b[0m\u001b[0;34m\u001b[0m\u001b[0m\n\u001b[1;32m    195\u001b[0m \u001b[0;34m\u001b[0m\u001b[0m\n",
            "\u001b[0;31mXGBoostError\u001b[0m: need to call fit or load_model beforehand"
          ]
        }
      ]
    },
    {
      "cell_type": "code",
      "metadata": {
        "id": "waJT1NXFFmWZ",
        "colab_type": "code",
        "colab": {}
      },
      "source": [
        "from xgboost import plot_importance\n",
        "plot_importance(xgb1, max_num_features=10, importance_type ='gain')\n",
        "plt.rcParams['figure.figsize'] = (40,10)\n",
        "plt.show()\n"
      ],
      "execution_count": 0,
      "outputs": []
    }
  ]
}